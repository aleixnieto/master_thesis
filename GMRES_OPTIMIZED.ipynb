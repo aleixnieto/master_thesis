{
 "cells": [
  {
   "cell_type": "markdown",
   "id": "f9230d73",
   "metadata": {},
   "source": [
    "# LEFT PRECONDITIONED GMRES"
   ]
  },
  {
   "cell_type": "code",
   "execution_count": 2,
   "id": "49c7a21d",
   "metadata": {},
   "outputs": [],
   "source": [
    "import numpy as np\n",
    "from time import time\n",
    "from numpy.linalg import qr\n",
    "\n",
    "from functions import arnoldi_one_iter, back_substitution\n",
    "from preconditioner import initial_precondition, PreconditionEnum\n",
    "\n",
    "from scipy.sparse.linalg import lsqr\n",
    "from scipy.sparse.linalg import spsolve\n",
    "from scipy.sparse import csr_matrix\n",
    "from scipy.sparse import coo_matrix\n",
    "from scipy.sparse.linalg import gmres\n",
    "import scipy.io"
   ]
  },
  {
   "cell_type": "code",
   "execution_count": 3,
   "id": "c48a7648",
   "metadata": {},
   "outputs": [],
   "source": [
    "def precon_GMRES_restarted(A, b, x0, k_max = None, restart = None, precondition = None, epsilon = 1e-12):\n",
    "    \"\"\"\n",
    "    Generalized Minimal RESidual method for solving linear systems. With both restart and left preconditioning options.\n",
    "    \n",
    "    - Regular mode: when restart = None the full Krylov subspace is used to solve the problem. \n",
    "        This mode is guaranteed to find a solution (if one exists), but scales poorly.\n",
    "        \n",
    "    - Restarted mode: when restart = N then the Krylov subspace used by the solver is rebuilt every N steps. \n",
    "        This mode is not guaranteed to find a solution for certain intial conditions, but scales well.\n",
    "    \n",
    "    Parameters:\n",
    "    -----------\n",
    "    A : numpy.ndarray\n",
    "        Coefficient matrix of the linear system.\n",
    "        \n",
    "    b : numpy.ndarray\n",
    "        Right-hand side vector of the linear system.\n",
    "        \n",
    "    x0 : numpy.ndarray\n",
    "        Initial guess for the solution.\n",
    "        \n",
    "    k_max : int\n",
    "        Maximum number of iterations.\n",
    "        \n",
    "    restart : int, optional\n",
    "        Number of iterations before restart. If None, the method will not restart.\n",
    "        \n",
    "    epsilon : float, optional\n",
    "        Tolerance for convergence.\n",
    "    \n",
    "    Returns:\n",
    "    --------\n",
    "    numpy.ndarray\n",
    "        Approximate solution to the linear system.\n",
    "    \"\"\"\n",
    "    \n",
    "    n = A.shape[0]\n",
    "    \n",
    "    if (k_max is None):\n",
    "        k_max = n\n",
    "        \n",
    "    elif k_max > n:\n",
    "        k_max = n\n",
    "    \n",
    "    r0 = b - A @ x0\n",
    "    \n",
    "    # Apply initial preconditioning\n",
    "    M, r0, total_precondition_time = initial_precondition(A, precondition, r0) \n",
    "    \n",
    "    p0 = np.linalg.norm(r0)\n",
    "    beta = p0\n",
    "    pk = p0\n",
    "    ini= pk\n",
    "    k = 0\n",
    "    total_k = 0\n",
    "    \n",
    "    # Save list of errors at each iteration\n",
    "    error_list = [pk]\n",
    "    \n",
    "    # Initialize the V basis of the Krylov subspace (concatenate as iteration continues). May terminate early.\n",
    "    V = np.zeros((n, 1))\n",
    "    V[:, 0] = r0 / beta\n",
    "    \n",
    "    # Hessenberg matrix\n",
    "    H = np.zeros((n + 1, 1))\n",
    "    \n",
    "    while pk > epsilon*p0 and total_k < k_max:\n",
    "        \n",
    "        # Arnoldi iteration\n",
    "        V = np.concatenate((V, np.zeros((n, 1))), axis=1)\n",
    "        H = np.concatenate((H, np.zeros((n + 1, 1))), axis=1)\n",
    "        H[:(k + 2), k], v_new, iter_precondition_time = arnoldi_one_iter(A, V, k, precondition = precondition, M = M)\n",
    "        \n",
    "        # update precondition time\n",
    "        total_precondition_time += iter_precondition_time\n",
    "        \n",
    "        if v_new is None:\n",
    "            print(f\"ENCOUNTER EXACT SOLUTION\")\n",
    "\n",
    "            # Append 0 for plots...\n",
    "            error_list.append(0)\n",
    "            break\n",
    "        else:\n",
    "            V[:, k + 1] = v_new\n",
    "        \n",
    "        Q, R = qr(H[: k+ 2, :k +1], mode = 'complete')\n",
    "        \n",
    "        pk = abs(beta*Q[0, k]) # Compute norm of residual vector\n",
    "        error_list.append(pk) # Add new error at current iteration       \n",
    "        \n",
    "        yk = back_substitution(R[:-1, :] , beta*Q[0][:-1])\n",
    "    \n",
    "        xk = x0 + V[:, :k + 1]@yk # Compute the new approximation x0 + V_{k}y\n",
    "\n",
    "        k += 1\n",
    "        total_k += 1\n",
    "        \n",
    "        if restart is not None and k == restart:\n",
    "            x0 = xk\n",
    "            r0 = b - A @ x0\n",
    "            # Here is redundant to calculate the residual\n",
    "            _, r0, iter_precondition_time = initial_precondition(A, precondition, r0) \n",
    "            total_precondition_time += iter_precondition_time\n",
    "            \n",
    "            p0 = np.linalg.norm(r0)\n",
    "            beta = p0\n",
    "            pk = p0\n",
    "            k = 0\n",
    "            \n",
    "            V = np.zeros((n, 1))\n",
    "            V[:, 0] = r0 / beta\n",
    "            H = np.zeros((n + 1, 1))\n",
    "  \n",
    "    print(pk/ini)\n",
    "    return xk, error_list, total_k, total_precondition_time"
   ]
  },
  {
   "cell_type": "markdown",
   "id": "44228a88",
   "metadata": {},
   "source": [
    "# Unit tests"
   ]
  },
  {
   "cell_type": "markdown",
   "id": "ffaacab8",
   "metadata": {},
   "source": [
    "## Test 1: Trying if the Jacobi preconditioner is formed correctly"
   ]
  },
  {
   "cell_type": "code",
   "execution_count": 34,
   "id": "466b12c9",
   "metadata": {},
   "outputs": [
    {
     "data": {
      "text/plain": [
       "array([[2., 0., 0.],\n",
       "       [0., 3., 0.],\n",
       "       [0., 0., 5.]])"
      ]
     },
     "execution_count": 34,
     "metadata": {},
     "output_type": "execute_result"
    }
   ],
   "source": [
    "A = np.array([[2,5,6],[2,3,4],[8,2,5]])\n",
    "\n",
    "# Convert the matrix to CRS format\n",
    "A = scipy.sparse.csr_matrix(A)\n",
    "\n",
    "b = np.ones(A.shape[0])\n",
    "\n",
    "x0 = np.zeros(b.size)\n",
    "\n",
    "r0 = b - A @ x0\n",
    "\n",
    "precondition = PreconditionEnum.JACOBI\n",
    "\n",
    "M, r0, _ = initial_precondition(A, precondition, r0) # Skipping the time for now\n",
    "M.toarray()"
   ]
  },
  {
   "cell_type": "markdown",
   "id": "d1e7785a",
   "metadata": {},
   "source": [
    "## Test 2: PDE sparse matrix comparison SciPy implementation"
   ]
  },
  {
   "cell_type": "code",
   "execution_count": 35,
   "id": "385c9e22",
   "metadata": {},
   "outputs": [],
   "source": [
    "def discretise_poisson(N):\n",
    "    \"\"\"Generate the matrix and rhs associated with the discrete Poisson operator.\"\"\"\n",
    "    \n",
    "    nelements = 5 * N**2 - 16 * N + 16\n",
    "    \n",
    "    row_ind = np.empty(nelements, dtype=np.float64)\n",
    "    col_ind = np.empty(nelements, dtype=np.float64)\n",
    "    data = np.empty(nelements, dtype=np.float64)\n",
    "    \n",
    "    f = np.empty(N * N, dtype=np.float64)\n",
    "    \n",
    "    count = 0\n",
    "    for j in range(N):\n",
    "        for i in range(N):\n",
    "            if i == 0 or i == N - 1 or j == 0 or j == N - 1:\n",
    "                row_ind[count] = col_ind[count] = j * N + i\n",
    "                data[count] =  1\n",
    "                f[j * N + i] = 0\n",
    "                count += 1\n",
    "                \n",
    "            else:\n",
    "                row_ind[count : count + 5] = j * N + i\n",
    "                col_ind[count] = j * N + i\n",
    "                col_ind[count + 1] = j * N + i + 1\n",
    "                col_ind[count + 2] = j * N + i - 1\n",
    "                col_ind[count + 3] = (j + 1) * N + i\n",
    "                col_ind[count + 4] = (j - 1) * N + i\n",
    "                                \n",
    "                data[count] = 4 * (N - 1)**2\n",
    "                data[count + 1 : count + 5] = - (N - 1)**2\n",
    "                f[j * N + i] = 1\n",
    "                \n",
    "                count += 5\n",
    "                                                \n",
    "    return coo_matrix((data, (row_ind, col_ind)), shape=(N**2, N**2)).tocsr(), f"
   ]
  },
  {
   "cell_type": "code",
   "execution_count": 5,
   "id": "0fc6793f",
   "metadata": {},
   "outputs": [],
   "source": [
    "def jacobi_preconditioner(A):\n",
    "    n = A.shape[0]\n",
    "    diag = A.diagonal()\n",
    "    M = csr_matrix((1/diag, (range(n), range(n))), shape=(n,n))\n",
    "    return M\n"
   ]
  },
  {
   "cell_type": "code",
   "execution_count": 64,
   "id": "75e810a1",
   "metadata": {},
   "outputs": [],
   "source": [
    "N = 200\n",
    "\n",
    "A, b = discretise_poisson(N)\n",
    "\n",
    "A = csr_matrix(A)\n",
    "\n",
    "M = jacobi_preconditioner(A)\n",
    "\n",
    "x0 = np.zeros(b.size)\n",
    "\n",
    "r0 = b - A @ x0\n",
    "\n",
    "maxiter = 1000\n",
    "restart = 100\n",
    "precondition = PreconditionEnum.JACOBI"
   ]
  },
  {
   "cell_type": "code",
   "execution_count": 65,
   "id": "ded9b15e",
   "metadata": {},
   "outputs": [
    {
     "name": "stdout",
     "output_type": "stream",
     "text": [
      "4.0091664060633975e-05\n",
      "Optimized GMRES_restarted Time: 27.32247805595398\n",
      "Our implementation residual with Ax-b (max_iterations = 1000, restart = 100): 0.00793814948400553\n",
      "1000\n",
      "7.467154502868652\n"
     ]
    }
   ],
   "source": [
    "start_time = time()\n",
    "x, _, iterations, precontime = precon_GMRES_restarted(A, b, x0, k_max = maxiter, restart = restart, precondition = precondition, epsilon = 1e-18)\n",
    "residual_calculated2 = np.linalg.norm(A@x - b)\n",
    "end_time = time()\n",
    "print(\"Optimized GMRES_restarted Time:\", end_time - start_time)\n",
    "\n",
    "print(f\"Our implementation residual with Ax-b (max_iterations = {maxiter}, restart = {restart}): {residual_calculated2}\")\n",
    "print(iterations)\n",
    "print(precontime)"
   ]
  },
  {
   "cell_type": "code",
   "execution_count": 66,
   "id": "54834852",
   "metadata": {},
   "outputs": [
    {
     "name": "stdout",
     "output_type": "stream",
     "text": [
      "4.009400588945499e-05\n",
      "Optimized GMRES_restarted Time: 18.919415950775146\n",
      "Our implementation residual with Ax-b (max_iterations = 1000, restart = 100): 0.007938613166112088\n",
      "1000\n"
     ]
    }
   ],
   "source": [
    "start_time = time()\n",
    "x, _, iterations, precontime = precon_GMRES_restarted(A, b, x0, k_max = maxiter, restart = restart, precondition = None, epsilon = 1e-18)\n",
    "residual_calculated2 = np.linalg.norm(A@x - b)\n",
    "end_time = time()\n",
    "print(\"Optimized GMRES_restarted Time:\", end_time - start_time)\n",
    "\n",
    "print(f\"Our implementation residual with Ax-b (max_iterations = {maxiter}, restart = {restart}): {residual_calculated2}\")\n",
    "print(iterations)"
   ]
  },
  {
   "cell_type": "code",
   "execution_count": null,
   "id": "885b1a6b",
   "metadata": {},
   "outputs": [],
   "source": [
    "N = 200, maxiter = 300, no preconditioner time: 17.366547107696533, error: 0.0004307716389742024"
   ]
  },
  {
   "cell_type": "code",
   "execution_count": 8,
   "id": "73fd1898",
   "metadata": {},
   "outputs": [
    {
     "name": "stdout",
     "output_type": "stream",
     "text": [
      "SciPy GMRES Time: 1.5734102725982666\n",
      "Calculated Scipy residual with Ax-b (max_iterations = 10000, restart = 10): 9.585398129745876e-11\n",
      "Optimized GMRES_restarted Time: 7.398061275482178\n",
      "Our implementation residual with Ax-b (max_iterations = 10000, restart = 10): 1.532266999365767e-11\n"
     ]
    }
   ],
   "source": [
    "N = 100\n",
    "\n",
    "A, b = discretise_poisson(N)\n",
    "\n",
    "A = csr_matrix(A)\n",
    "\n",
    "M = jacobi_preconditioner(A)\n",
    "\n",
    "x0 = np.zeros(b.size)\n",
    "\n",
    "r0 = b - A @ x0\n",
    "\n",
    "maxiter = 10000\n",
    "restart = 10\n",
    "\n",
    "start_time = time()\n",
    "x, iterations = gmres(A, b, x0, M = None, restart = restart, maxiter = maxiter/restart, tol=1e-12)\n",
    "residual_calculated1 = np.linalg.norm(A@x - b)\n",
    "end_time = time()\n",
    "print(\"SciPy GMRES Time:\", end_time - start_time)\n",
    "\n",
    "print(f\"Calculated Scipy residual with Ax-b (max_iterations = {maxiter}, restart = {restart}): {residual_calculated1}\")\n",
    "\n",
    "start_time = time()\n",
    "x = precon_GMRES_restarted(A, b, x0, k_max = maxiter, restart = restart, precondition = None)[0]\n",
    "residual_calculated2 = np.linalg.norm(A@x - b)\n",
    "end_time = time()\n",
    "print(\"Optimized GMRES_restarted Time:\", end_time - start_time)\n",
    "\n",
    "print(f\"Our implementation residual with Ax-b (max_iterations = {maxiter}, restart = {restart}): {residual_calculated2}\")"
   ]
  },
  {
   "cell_type": "markdown",
   "id": "81f3e4a4",
   "metadata": {},
   "source": [
    "## Test 2: Comparing SciPy implementation and our implementation in a matrix arised from a structural problem"
   ]
  },
  {
   "cell_type": "code",
   "execution_count": 6,
   "id": "1a88ef6f",
   "metadata": {},
   "outputs": [
    {
     "name": "stdout",
     "output_type": "stream",
     "text": [
      "SciPy GMRES Time: 0.2532637119293213\n",
      "Calculated Scipy residual with Ax-b (max_iterations = 200, restart = 50): 83.92625488841975\n",
      "0.7678037597305487\n",
      "Optimized GMRES_restarted Time: 0.7207410335540771\n",
      "Our implementation residual with Ax-b (max_iterations = 200, restart = 50): 83.92625444744131\n"
     ]
    }
   ],
   "source": [
    "# Load the .mtx file\n",
    "A = scipy.io.mmread(\"data/bcsstk18.mtx\")\n",
    "\n",
    "M = jacobi_preconditioner(A)\n",
    "\n",
    "# Convert the matrix to CSR format\n",
    "A = csr_matrix(A)\n",
    "\n",
    "b = np.ones(A.shape[0])\n",
    "\n",
    "x0 = np.zeros(b.size)\n",
    "\n",
    "maxiter = 200\n",
    "restart = 50\n",
    "\n",
    "start_time = time()\n",
    "x, iterations = gmres(A, b, x0, M = None, restart = restart, maxiter = maxiter/restart)\n",
    "residual_calculated1 = np.linalg.norm(A@x - b)\n",
    "end_time = time()\n",
    "print(\"SciPy GMRES Time:\", end_time - start_time)\n",
    "\n",
    "print(f\"Calculated Scipy residual with Ax-b (max_iterations = {maxiter}, restart = {restart}): {residual_calculated1}\")\n",
    "\n",
    "start_time = time()\n",
    "x = precon_GMRES_restarted(A, b, x0, k_max = maxiter, restart = restart, precondition = None)[0]\n",
    "# x = custom_gmres(A, b, x0, num_max_iter= 200, precondition = PreconditionEnum.JACOBI)[0]\n",
    "residual_calculated2 = np.linalg.norm(A@x - b)\n",
    "end_time = time()\n",
    "print(\"Optimized GMRES_restarted Time:\", end_time - start_time)\n",
    "\n",
    "print(f\"Our implementation residual with Ax-b (max_iterations = {maxiter}, restart = {restart}): {residual_calculated2}\")"
   ]
  },
  {
   "cell_type": "markdown",
   "id": "87c125d2",
   "metadata": {},
   "source": [
    "### Now, let's try with the JACOBI preconditioner"
   ]
  },
  {
   "cell_type": "code",
   "execution_count": 14,
   "id": "6bf70272",
   "metadata": {},
   "outputs": [
    {
     "name": "stdout",
     "output_type": "stream",
     "text": [
      "SciPy GMRES Time: 0.25827789306640625\n",
      "Calculated Scipy residual with Ax-b (max_iterations = 200, restart = 50, preconditioner = Jacobi): 71.35722200521617\n",
      "Optimized GMRES_restarted Time: 1.1413383483886719\n",
      "Our implementation residual with Ax-b (max_iterations = 200, restart = 50, preconditioner = Jacobi): 71.35722100564513\n"
     ]
    }
   ],
   "source": [
    "start_time = time()\n",
    "x, iterations = gmres(A, b, x0, M = M, restart = restart, maxiter = maxiter/restart)\n",
    "residual_calculated1 = np.linalg.norm(A@x - b)\n",
    "end_time = time()\n",
    "print(\"SciPy GMRES Time:\", end_time - start_time)\n",
    "\n",
    "print(f\"Calculated Scipy residual with Ax-b (max_iterations = {maxiter}, restart = {restart}, preconditioner = Jacobi): {residual_calculated1}\")\n",
    "\n",
    "start_time = time()\n",
    "x = precon_GMRES_restarted(A, b, x0, k_max = maxiter, restart = restart, precondition = PreconditionEnum.JACOBI)[0]\n",
    "residual_calculated2 = np.linalg.norm(A@x - b)\n",
    "end_time = time()\n",
    "print(\"Optimized GMRES_restarted Time:\", end_time - start_time)\n",
    "\n",
    "print(f\"Our implementation residual with Ax-b (max_iterations = {maxiter}, restart = {restart}, preconditioner = Jacobi): {residual_calculated2}\")"
   ]
  },
  {
   "cell_type": "markdown",
   "id": "293e5d01",
   "metadata": {},
   "source": [
    "The residual decreases! However, it takes longer, we need to optimize the code!"
   ]
  },
  {
   "cell_type": "code",
   "execution_count": 8,
   "id": "bd6f05c8",
   "metadata": {},
   "outputs": [
    {
     "name": "stdout",
     "output_type": "stream",
     "text": [
      "SciPy GMRES Time: 5.927543640136719\n",
      "Calculated Scipy residual with Ax-b (max_iterations = 10000, restart = 20): 70.57320010911614\n"
     ]
    }
   ],
   "source": [
    "import scipy.io\n",
    "import scipy.sparse\n",
    "\n",
    "# Load the .mtx file\n",
    "A = scipy.io.mmread(\"data/bcsstk18.mtx\")\n",
    "\n",
    "# Convert the matrix to CRS format\n",
    "A = scipy.sparse.csr_matrix(A)\n",
    "\n",
    "b = np.ones(A.shape[0])\n",
    "\n",
    "x0 = np.zeros(b.size)\n",
    "\n",
    "maxiter = 10000\n",
    "restart = 20\n",
    "\n",
    "start_time = time()\n",
    "x, iterations = gmres(A, b, x0, restart = 20, maxiter = maxiter/restart)\n",
    "residual_calculated1 = np.linalg.norm(A@x - b)\n",
    "end_time = time()\n",
    "print(\"SciPy GMRES Time:\", end_time - start_time)\n",
    "\n",
    "print(f\"Calculated Scipy residual with Ax-b (max_iterations = {maxiter}, restart = {restart}): {residual_calculated1}\")"
   ]
  },
  {
   "cell_type": "code",
   "execution_count": 9,
   "id": "5cd7e996",
   "metadata": {},
   "outputs": [
    {
     "name": "stdout",
     "output_type": "stream",
     "text": [
      "0.6456426396399392\n",
      "Optimized GMRES_restarted Time: 16.155805587768555\n",
      "Our implementation residual with Ax-b (max_iterations = 10000, restart = 20): 70.57320020880756\n"
     ]
    }
   ],
   "source": [
    "start_time = time()\n",
    "x = precon_GMRES_restarted(A, b, x0, k_max = 10000, restart = 20)[0]\n",
    "residual_calculated2 = np.linalg.norm(A@x - b)\n",
    "end_time = time()\n",
    "print(\"Optimized GMRES_restarted Time:\", end_time - start_time)\n",
    "\n",
    "print(f\"Our implementation residual with Ax-b (max_iterations = {maxiter}, restart = {restart}): {residual_calculated2}\")"
   ]
  },
  {
   "cell_type": "markdown",
   "id": "2dbea2a6",
   "metadata": {},
   "source": [
    "BEFORE IT TOOK 73 SECONDS. NOW 16!"
   ]
  },
  {
   "cell_type": "code",
   "execution_count": 10,
   "id": "de7ad6e9",
   "metadata": {},
   "outputs": [
    {
     "name": "stdout",
     "output_type": "stream",
     "text": [
      "9.163680759141599e-10\n",
      "Optimized GMRES_restarted Time: 38.73997926712036\n",
      "Our implementation residual with Ax-b (max_iterations = 10000, restart = 20): 0.30657085238777154\n"
     ]
    }
   ],
   "source": [
    "start_time = time()\n",
    "x = precon_GMRES_restarted(A, b, x0, k_max = 10000, restart = 20, precondition = PreconditionEnum.JACOBI)[0]\n",
    "residual_calculated2 = np.linalg.norm(A@x - b)\n",
    "end_time = time()\n",
    "print(\"Optimized GMRES_restarted Time:\", end_time - start_time)\n",
    "\n",
    "print(f\"Our implementation residual with Ax-b (max_iterations = {maxiter}, restart = {restart}): {residual_calculated2}\")"
   ]
  },
  {
   "cell_type": "markdown",
   "id": "40d8573c",
   "metadata": {},
   "source": [
    "TOOK WAY LONGER WITH THE PRECONDITIONER BUT THE ERROR DECREASED LIKE CRAZY"
   ]
  }
 ],
 "metadata": {
  "kernelspec": {
   "display_name": "Python 3 (ipykernel)",
   "language": "python",
   "name": "python3"
  },
  "language_info": {
   "codemirror_mode": {
    "name": "ipython",
    "version": 3
   },
   "file_extension": ".py",
   "mimetype": "text/x-python",
   "name": "python",
   "nbconvert_exporter": "python",
   "pygments_lexer": "ipython3",
   "version": "3.11.5"
  }
 },
 "nbformat": 4,
 "nbformat_minor": 5
}
