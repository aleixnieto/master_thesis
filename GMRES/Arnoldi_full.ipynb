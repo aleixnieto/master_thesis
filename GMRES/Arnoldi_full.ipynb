{
 "cells": [
  {
   "cell_type": "markdown",
   "metadata": {},
   "source": [
    "# Arnoldi iteration"
   ]
  },
  {
   "cell_type": "code",
   "execution_count": 1,
   "metadata": {},
   "outputs": [],
   "source": [
    "import numpy as np"
   ]
  },
  {
   "cell_type": "markdown",
   "metadata": {},
   "source": [
    "#### Krylov basis computation"
   ]
  },
  {
   "cell_type": "code",
   "execution_count": 2,
   "metadata": {},
   "outputs": [],
   "source": [
    "def compute_krylov_basis(A, b, x0, m):\n",
    "    \"\"\"\n",
    "    Generates a numerical basis for the m-dimensional Krylov subspace.\n",
    "    \n",
    "    Parameters:\n",
    "        A (numpy.ndarray): The matrix.\n",
    "        b (numpy.ndarray): The vector.\n",
    "        m (int): The dimensionality of the subspace.\n",
    "        \n",
    "    Returns:\n",
    "        numpy.ndarray: The basis for the Krylov subspace.\n",
    "    \"\"\"\n",
    "    n = A.shape[0]\n",
    "    \n",
    "    r0 = b - A @ x0\n",
    "    \n",
    "    # Initialize the basis\n",
    "    basis = np.empty((n, m), dtype = np.float64)\n",
    "    \n",
    "    # Set the first column to the initial residual\n",
    "    basis[:, 0] = r0\n",
    "    \n",
    "    # Compute subsequent columns\n",
    "    for i in range(1, m):\n",
    "        basis[:, i] = A @ basis[:, i - 1]\n",
    "        \n",
    "    return basis"
   ]
  },
  {
   "cell_type": "markdown",
   "metadata": {},
   "source": [
    "An important measure of the usefulness of a basis is its **conditioning**. It measures how linearly independent vectors are.\n",
    "If a set of vectors is close to being linearly dependent (or collinear), it means that they are almost providing the same information. Small changes can tip the balance and make one vector a linear combination of the others. This is reflected in a high condition number, indicating that the system is sensitive to changes and hence, numerically unstable.\n",
    "\n",
    "A condition number close to $1$ means that the basis is well behaved. A condition number close to $10^{16}$ means that the basis is numerically singular (this is related to the fact that standard double precision has around 16 digits of accuracy).\n",
    "\n",
    "Let us measure the condition number of the Krylov subspace basis as $m$ increases for a $(20,000 \\times 20,000)$ matrix."
   ]
  },
  {
   "cell_type": "code",
   "execution_count": 3,
   "metadata": {},
   "outputs": [
    {
     "name": "stdout",
     "output_type": "stream",
     "text": [
      "1: 1.0e+00\n",
      "2: 1.7e+04\n",
      "3: 1.7e+08\n",
      "4: 1.7e+12\n",
      "5: 1.7e+16\n",
      "6: 4.1e+22\n",
      "7: 1.1e+27\n",
      "8: 2.9e+30\n",
      "9: 1.8e+35\n",
      "10: 2.9e+37\n",
      "11: 3.8e+45\n",
      "12: 2.2e+50\n",
      "13: 1.2e+56\n",
      "14: 5.9e+58\n",
      "15: 8.0e+61\n",
      "16: 5.8e+66\n",
      "17: 2.5e+71\n",
      "18: 7.6e+74\n",
      "19: 2.2e+78\n"
     ]
    }
   ],
   "source": [
    "n = 20000 # Matrix dimension\n",
    "\n",
    "m = 20\n",
    "\n",
    "rand = np.random.RandomState(73)\n",
    "A = rand.rand(n, n)\n",
    "b = rand.rand(n)\n",
    "x0 = np.zeros(n)\n",
    "krylov_basis = compute_krylov_basis(A, b, x0, m)\n",
    "\n",
    "for m in range(1, m):\n",
    "    cond_number = np.linalg.cond(krylov_basis[:,:m])\n",
    "    print(f\"{m}: {cond_number:.1e}\")"
   ]
  },
  {
   "cell_type": "markdown",
   "metadata": {},
   "source": [
    "This is catastrophic. Already with 5 vectors the Krylov subspace basis is effectively numerically singular. **The mathematical reason is that the powers $A^{m}b$ converge to the eigenvector associated with the largest (by magnitude) eigenvalue of $A$**. Hence, the later iterates more and more point in the same direction and are not really linearly dependent. We need a way to generate a stable basis for growing $m$. The ideal case is an orthogonal basis, where all basis vectors are pairwise orthogonal to each other and of unit length.\n",
    "\n",
    "This is accomplished by the following modified algorithm that after each multiplication with the matrix $A$ orthogonalizes the new vector against all previous vectors."
   ]
  },
  {
   "cell_type": "code",
   "execution_count": 4,
   "metadata": {},
   "outputs": [],
   "source": [
    "def arnoldi(A, b, r0, m, tol = 1e-12):\n",
    "    \"\"\"\n",
    "    This function computes an orthonormal basis V_{m+1} = {v_1,...,v_{m+1}} of \n",
    "    K_{m+1}(A, r^{(0)}) = span{r^{(0)}, Ar^{(0)}, ..., A^{m}r^{(0)}}.\n",
    "\n",
    "    Input parameters:\n",
    "    -----------------\n",
    "      A: array_like\n",
    "          An (n x n) array.\n",
    "      \n",
    "      b: array_like\n",
    "          Initial vector of length n.\n",
    "      \n",
    "      r0: array_like \n",
    "          Initial residual of length n.\n",
    "\n",
    "      m: int\n",
    "          One less than the dimension of the Krylov subspace. Must be > 0.\n",
    "      \n",
    "      tol: \n",
    "          Tolerance for convergence.\n",
    "\n",
    "    Output:\n",
    "    -------\n",
    "      Q: numpy.array \n",
    "          n x m array, the columns are an orthonormal basis of the Krylov subspace.\n",
    "      \n",
    "      H: numpy.array\n",
    "          An (m + 1) x m array. It is the matrix A on basis Q. It is upper Hessenberg.\n",
    "    \"\"\"\n",
    "    \n",
    "    # Check inputs\n",
    "    n = A.shape[0]\n",
    "    assert A.shape == (n, n) and b.shape == (n,) and x0.shape == (n,), \"Matrix and vector dimensions don not match\"\n",
    "    assert isinstance(m, int) and m > 0, \"m must be a positive integer\"\n",
    "    \n",
    "    m = min(m, n)\n",
    "    \n",
    "    # Initialize matrices\n",
    "    V = np.zeros((n, m + 1))\n",
    "    H = np.zeros((m + 1, m))\n",
    "    \n",
    "    # Normalize input vector and use for Krylov vector\n",
    "    beta = np.linalg.norm(r0)\n",
    "    V[:, 0] = r0 / beta\n",
    "\n",
    "    for k in range(1, m + 1):\n",
    "        # Generate a new candidate vector\n",
    "        w = A @ V[:, k - 1] # Note that here is different from arnoldi_one_iter as we iter over k from 1 to m. \n",
    "                            # In arnoldi_one_iter we have k as input to the function and here we have V[:, k - 1] as k starts at 1.\n",
    "        \n",
    "        # Orthogonalization\n",
    "        for j in range(k):\n",
    "            H[j, k - 1] = V[:, j] @ w\n",
    "            w -= H[j, k - 1] * V[:, j]\n",
    "        \n",
    "        H[k, k - 1] = np.linalg.norm(w)\n",
    "\n",
    "        # Check convergence\n",
    "        if H[k, k - 1] <= tol:\n",
    "            print(f\"Converged in {k} iterations.\")\n",
    "            return V, H\n",
    "        \n",
    "        # Normalize and store the new basis vector\n",
    "        V[:, k] = w / H[k, k - 1]\n",
    "    \n",
    "    return V, H"
   ]
  },
  {
   "cell_type": "markdown",
   "metadata": {},
   "source": [
    "# Unit tests"
   ]
  },
  {
   "cell_type": "markdown",
   "metadata": {},
   "source": [
    "### Small matrix just to verify the algorithm is working"
   ]
  },
  {
   "cell_type": "code",
   "execution_count": 5,
   "metadata": {},
   "outputs": [
    {
     "data": {
      "text/plain": [
       "(array([[ 0.33772937,  0.17493401,  0.45494454],\n",
       "        [ 0.13453437,  0.62463971, -0.11098119],\n",
       "        [ 0.36631832,  0.15463533,  0.00101877],\n",
       "        [ 0.47942078, -0.14437439, -0.49187151],\n",
       "        [ 0.12394393,  0.28209878,  0.42440875],\n",
       "        [ 0.28707658,  0.01984779,  0.05898377],\n",
       "        [ 0.29499125, -0.12367891, -0.09936178],\n",
       "        [ 0.28513066,  0.11598928,  0.31176799],\n",
       "        [ 0.11115282,  0.4612879 , -0.49578946],\n",
       "        [ 0.47471743, -0.46147275,  0.04784273]]),\n",
       " array([[3.92980991, 2.03722161],\n",
       "        [1.98254355, 0.44956505],\n",
       "        [0.        , 0.52717505]]))"
      ]
     },
     "execution_count": 5,
     "metadata": {},
     "output_type": "execute_result"
    }
   ],
   "source": [
    "n = 10\n",
    "m = 2\n",
    "rand = np.random.RandomState(0)\n",
    "\n",
    "A = rand.rand(n, n)\n",
    "b = rand.rand(n)\n",
    "x0 = np.zeros(n)\n",
    "\n",
    "r0 = b - A @ x0\n",
    "\n",
    "V, H = arnoldi(A, b, r0, m)\n",
    "V, H"
   ]
  },
  {
   "cell_type": "markdown",
   "metadata": {},
   "source": [
    "### Check that $V$ is orthogonal"
   ]
  },
  {
   "cell_type": "markdown",
   "metadata": {},
   "source": [
    "##### Condition number"
   ]
  },
  {
   "cell_type": "code",
   "execution_count": 6,
   "metadata": {},
   "outputs": [
    {
     "data": {
      "text/plain": [
       "1.0000000000000002"
      ]
     },
     "execution_count": 6,
     "metadata": {},
     "output_type": "execute_result"
    }
   ],
   "source": [
    "np.linalg.cond(V)"
   ]
  },
  {
   "cell_type": "markdown",
   "metadata": {},
   "source": [
    "#### Difference between $V^TV$ and $I$."
   ]
  },
  {
   "cell_type": "code",
   "execution_count": 7,
   "metadata": {},
   "outputs": [
    {
     "data": {
      "text/plain": [
       "6.770054305730027e-16"
      ]
     },
     "execution_count": 7,
     "metadata": {},
     "output_type": "execute_result"
    }
   ],
   "source": [
    "np.linalg.norm(V.T @ V - np.eye(m + 1))"
   ]
  },
  {
   "cell_type": "markdown",
   "metadata": {},
   "source": [
    "#### Condition number of the sucessive Krylov bases"
   ]
  },
  {
   "cell_type": "code",
   "execution_count": 8,
   "metadata": {
    "scrolled": true
   },
   "outputs": [
    {
     "name": "stdout",
     "output_type": "stream",
     "text": [
      "1.0\n",
      "1.0000000000000002\n",
      "1.0000000000000002\n"
     ]
    }
   ],
   "source": [
    "for i in range(1, m + 2):\n",
    "    cond_number = np.linalg.cond(V[:,:i])\n",
    "    print(f\"{cond_number}\")"
   ]
  },
  {
   "cell_type": "markdown",
   "metadata": {},
   "source": [
    "### Test property: $AV_m = V_{m+1}H_{m+1,m}$"
   ]
  },
  {
   "cell_type": "code",
   "execution_count": 9,
   "metadata": {},
   "outputs": [],
   "source": [
    "def assert_matrices_equal_with_threshold(matrix1, matrix2, threshold):\n",
    "    # Check if shapes are equal\n",
    "    assert len(matrix1) == len(matrix2), \"Matrices have different number of rows\"\n",
    "    assert len(matrix1[0]) == len(matrix2[0]), \"Matrices have different number of columns\"\n",
    "    \n",
    "    # Check if all corresponding elements are within the threshold\n",
    "    for i in range(len(matrix1)):\n",
    "        for j in range(len(matrix1[0])):\n",
    "            assert abs(matrix1[i][j] - matrix2[i][j]) <= threshold, f\"Element at position ({i}, {j}) is not within the threshold\"\n",
    "\n",
    "assert_matrices_equal_with_threshold(A@V[:,:-1], V@H, 1e-12)"
   ]
  },
  {
   "cell_type": "markdown",
   "metadata": {},
   "source": [
    "### Trying with a large sparse matrix ($20,000 \\times 20,000$) with 1% of nonzero elements (csr format)"
   ]
  },
  {
   "cell_type": "code",
   "execution_count": 10,
   "metadata": {},
   "outputs": [
    {
     "name": "stdout",
     "output_type": "stream",
     "text": [
      "Orthogonality error of Q: 2.0828577121471458e-15\n",
      "Shape of H: (101, 100)\n"
     ]
    }
   ],
   "source": [
    "from scipy.sparse import random\n",
    "from scipy.sparse.linalg import eigs\n",
    "\n",
    "# Generate a large sparse matrix\n",
    "n = 20000\n",
    "density = 0.01  # Adjust density as needed\n",
    "A_sparse = random(n, n, density=density, format='csr')\n",
    "\n",
    "# Generate a random initial vector and initial approximation\n",
    "b = np.random.rand(n)\n",
    "x0 = np.random.rand(n)\n",
    "\n",
    "# Choose m, the dimension of the Krylov subspace\n",
    "m = 100  # Adjust m as needed\n",
    "\n",
    "# Call the arnoldi function\n",
    "Q, H = arnoldi(A_sparse, b, x0, m)\n",
    "\n",
    "# Verify orthogonality of Q\n",
    "orthogonality_error = np.linalg.norm(Q.T @ Q - np.eye(m + 1))\n",
    "print(\"Orthogonality error of Q:\", orthogonality_error)\n",
    "\n",
    "# Verify the properties of H\n",
    "print(\"Shape of H:\", H.shape)"
   ]
  },
  {
   "cell_type": "code",
   "execution_count": 11,
   "metadata": {},
   "outputs": [
    {
     "name": "stdout",
     "output_type": "stream",
     "text": [
      "1.0\n",
      "1.0000000000000002\n",
      "1.0000000000000009\n",
      "1.0000000000000007\n",
      "1.0000000000000004\n",
      "1.0000000000000009\n",
      "1.0000000000000007\n",
      "1.0000000000000007\n",
      "1.0000000000000009\n",
      "1.0000000000000009\n",
      "1.0000000000000004\n",
      "1.0000000000000002\n",
      "1.0000000000000009\n",
      "1.0000000000000009\n",
      "1.000000000000001\n",
      "1.0000000000000007\n",
      "1.0000000000000007\n",
      "1.0000000000000007\n",
      "1.0000000000000007\n",
      "1.0000000000000009\n",
      "1.0000000000000004\n",
      "1.000000000000001\n",
      "1.0000000000000009\n",
      "1.0000000000000009\n",
      "1.0000000000000009\n",
      "1.0000000000000007\n",
      "1.0000000000000007\n",
      "1.0000000000000007\n",
      "1.0000000000000007\n",
      "1.0000000000000009\n",
      "1.0000000000000007\n",
      "1.0000000000000009\n",
      "1.000000000000002\n",
      "1.000000000000001\n",
      "1.000000000000001\n",
      "1.0000000000000018\n",
      "1.0000000000000022\n",
      "1.0000000000000013\n",
      "1.0000000000000013\n",
      "1.0000000000000018\n",
      "1.0000000000000016\n",
      "1.000000000000002\n",
      "1.000000000000001\n",
      "1.000000000000001\n",
      "1.000000000000001\n",
      "1.000000000000001\n",
      "1.000000000000002\n",
      "1.000000000000002\n",
      "1.000000000000002\n",
      "1.0000000000000013\n",
      "1.0000000000000024\n",
      "1.000000000000001\n",
      "1.0000000000000027\n",
      "1.0000000000000024\n",
      "1.0000000000000018\n",
      "1.0000000000000016\n",
      "1.0000000000000018\n",
      "1.0000000000000036\n",
      "1.000000000000001\n",
      "1.000000000000002\n",
      "1.0000000000000024\n",
      "1.0000000000000024\n",
      "1.0000000000000016\n",
      "1.0000000000000016\n",
      "1.000000000000001\n",
      "1.0000000000000027\n",
      "1.000000000000002\n",
      "1.0000000000000024\n",
      "1.0000000000000018\n",
      "1.0000000000000018\n",
      "1.0000000000000024\n",
      "1.0000000000000022\n",
      "1.0000000000000018\n",
      "1.0000000000000024\n",
      "1.0000000000000022\n",
      "1.0000000000000013\n",
      "1.0000000000000013\n",
      "1.000000000000002\n",
      "1.000000000000002\n",
      "1.0000000000000018\n",
      "1.0000000000000018\n",
      "1.0000000000000018\n",
      "1.0000000000000016\n",
      "1.0000000000000029\n",
      "1.000000000000002\n",
      "1.0000000000000018\n",
      "1.0000000000000018\n",
      "1.0000000000000018\n",
      "1.0000000000000018\n",
      "1.0000000000000018\n",
      "1.0000000000000022\n",
      "1.0000000000000013\n",
      "1.000000000000001\n",
      "1.0000000000000018\n",
      "1.0000000000000022\n",
      "1.0000000000000016\n",
      "1.0000000000000022\n",
      "1.0000000000000016\n",
      "1.0000000000000024\n",
      "1.0000000000000024\n",
      "1.0000000000000024\n"
     ]
    }
   ],
   "source": [
    "for i in range(1, m + 2):\n",
    "    cond_number = np.linalg.cond(Q[:,:i])\n",
    "    print(f\"{cond_number}\")"
   ]
  }
 ],
 "metadata": {
  "kernelspec": {
   "display_name": "Python 3 (ipykernel)",
   "language": "python",
   "name": "python3"
  },
  "language_info": {
   "codemirror_mode": {
    "name": "ipython",
    "version": 3
   },
   "file_extension": ".py",
   "mimetype": "text/x-python",
   "name": "python",
   "nbconvert_exporter": "python",
   "pygments_lexer": "ipython3",
   "version": "3.11.5"
  }
 },
 "nbformat": 4,
 "nbformat_minor": 4
}
