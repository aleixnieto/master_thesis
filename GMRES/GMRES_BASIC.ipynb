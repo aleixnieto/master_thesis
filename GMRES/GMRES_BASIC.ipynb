{
 "cells": [
  {
   "cell_type": "markdown",
   "id": "f9230d73",
   "metadata": {},
   "source": [
    "# GMRES"
   ]
  },
  {
   "cell_type": "code",
   "execution_count": 1,
   "id": "49c7a21d",
   "metadata": {},
   "outputs": [],
   "source": [
    "import numpy as np\n",
    "from numpy.linalg import qr\n",
    "\n",
    "from functions import arnoldi, back_substitution\n",
    "\n",
    "from scipy.sparse.linalg import lsqr\n",
    "from scipy.linalg import solve_triangular"
   ]
  },
  {
   "cell_type": "markdown",
   "id": "d52795e7",
   "metadata": {},
   "source": [
    "For some reason I cannot understand, the following code did not work with \n",
    "\n",
    "y = solve_triangular(R[:-1, :] , beta*Q[0][:-1], lower = True).\n",
    "\n",
    "Tried other solvers like scipy.sparse.linalg.lsqr and it worked. So I decided to implement back substitution manually."
   ]
  },
  {
   "cell_type": "code",
   "execution_count": 2,
   "id": "c48a7648",
   "metadata": {},
   "outputs": [],
   "source": [
    "def GMRES(A, b, x0, k_max = None , epsilon = 1e-8):\n",
    "    \"\"\"\n",
    "    Generalized Minimal RESidual method for solving linear systems.\n",
    "    \n",
    "    Parameters:\n",
    "    -----------\n",
    "    A : numpy.ndarray\n",
    "        Coefficient matrix of the linear system.\n",
    "        \n",
    "    b : numpy.ndarray\n",
    "        Right-hand side vector of the linear system.\n",
    "        \n",
    "    x0 : numpy.ndarray\n",
    "        Initial guess for the solution.\n",
    "        \n",
    "    k_max : int\n",
    "        Maximum number of iterations.\n",
    "        \n",
    "    epsilon : float, optional\n",
    "        Tolerance for convergence.\n",
    "    \n",
    "    Output:\n",
    "    --------\n",
    "    numpy.ndarray\n",
    "        Approximate solution to the linear system.\n",
    "    \"\"\"\n",
    "    \n",
    "    n = A.shape[0]\n",
    "    \n",
    "    if (k_max is None):\n",
    "        k_max = n\n",
    "        \n",
    "    elif k_max > n:\n",
    "        k_max = n\n",
    "        \n",
    "    r0 = b - A @ x0\n",
    "    p0 = np.linalg.norm(r0)\n",
    "    beta = p0\n",
    "    pk = p0\n",
    "    k = 0\n",
    "    \n",
    "    while pk > epsilon*p0 and k < k_max:\n",
    "        \n",
    "        k += 1\n",
    "        \n",
    "        V, H = arnoldi(A, b, r0, k) # Arnoldi algorithm to generate V_{k+1} and H_{k+1, k}\n",
    "        \n",
    "        Q, R = qr(H, mode = 'complete')\n",
    "        \n",
    "        pk = abs(beta*Q[0, k]) # Compute norm of residual vector\n",
    "        \n",
    "        yk = back_substitution(R[:-1, :] , beta*Q[0][:-1])\n",
    "    \n",
    "        xk = x0 + V[:, :-1]@yk # Compute the new approximation x0 + V_{k}y\n",
    "        \n",
    "    return xk, pk"
   ]
  },
  {
   "cell_type": "markdown",
   "id": "79d0de38",
   "metadata": {},
   "source": [
    "# Unit tests"
   ]
  },
  {
   "cell_type": "markdown",
   "id": "426178ff",
   "metadata": {},
   "source": [
    "#### Simple systems. The results are the correct ones."
   ]
  },
  {
   "cell_type": "code",
   "execution_count": 5,
   "id": "b9d68425",
   "metadata": {
    "scrolled": true
   },
   "outputs": [
    {
     "name": "stdout",
     "output_type": "stream",
     "text": [
      "Converged in 3 iterations.\n"
     ]
    },
    {
     "data": {
      "text/plain": [
       "(array([-1.25 ,  1.125,  0.875]), 4.866664144819235e-16)"
      ]
     },
     "execution_count": 5,
     "metadata": {},
     "output_type": "execute_result"
    }
   ],
   "source": [
    "A = np.array([[1, 3, 1], [3, 2, 4],  [1, 2, 0]])\n",
    "b = np.array([3, 2, 1])\n",
    "x0 = np.array([1, 2, 0])\n",
    "\n",
    "x = GMRES(A, b, x0) # Not specifying max_iter it takes n = 3 iterations\n",
    "x"
   ]
  },
  {
   "cell_type": "markdown",
   "id": "b211075f",
   "metadata": {},
   "source": [
    "#### Comparison with Scipy GMRES implementation"
   ]
  },
  {
   "cell_type": "code",
   "execution_count": 6,
   "id": "51ca1559",
   "metadata": {},
   "outputs": [
    {
     "name": "stdout",
     "output_type": "stream",
     "text": [
      "Converged in 4 iterations.\n"
     ]
    },
    {
     "data": {
      "text/plain": [
       "(array([ 2.96296296, -9.44444444, 10.7037037 , -3.7037037 ]),\n",
       " (array([ 2.96296296, -9.44444444, 10.7037037 , -3.7037037 ]),\n",
       "  1.0997010364081157e-14))"
      ]
     },
     "execution_count": 6,
     "metadata": {},
     "output_type": "execute_result"
    }
   ],
   "source": [
    "import scipy.sparse.linalg as spla\n",
    "\n",
    "A = np.array([[1, 1, 4, 9], [3, 4, 6, 9], [4, 1, 1, 3], [3, 2, 1, 1]])\n",
    "b = np.array([3, 2, 2, -3])\n",
    "x0 = np.array([0, 0, 1, 0])\n",
    "spla.gmres(A,b,x0, restart = None)[0], GMRES(A, b, x0, 4) # Converges in n = 4 iterations! God"
   ]
  }
 ],
 "metadata": {
  "kernelspec": {
   "display_name": "Python 3 (ipykernel)",
   "language": "python",
   "name": "python3"
  },
  "language_info": {
   "codemirror_mode": {
    "name": "ipython",
    "version": 3
   },
   "file_extension": ".py",
   "mimetype": "text/x-python",
   "name": "python",
   "nbconvert_exporter": "python",
   "pygments_lexer": "ipython3",
   "version": "3.11.5"
  }
 },
 "nbformat": 4,
 "nbformat_minor": 5
}
