{
 "cells": [
  {
   "cell_type": "markdown",
   "metadata": {},
   "source": [
    "# One iteration of Arnoldi's algorithm"
   ]
  },
  {
   "cell_type": "code",
   "execution_count": 9,
   "metadata": {},
   "outputs": [],
   "source": [
    "import numpy as np"
   ]
  },
  {
   "cell_type": "code",
   "execution_count": 10,
   "metadata": {},
   "outputs": [],
   "source": [
    "def arnoldi_one_iter(A, V, k, tol = 1e-12):\n",
    "    \"\"\"\n",
    "    Computes the new vectors of the Arnoldi iteration for both V_{k+1} and H_{k + 1, k}\n",
    "\n",
    "    Parameters:\n",
    "    -----------\n",
    "    A : numpy.ndarray\n",
    "        An (n x n) array representing the matrix.\n",
    "          \n",
    "    V : numpy.ndarray\n",
    "        An (n x (k + 1)) array. The current Krylov orthonormal basis. \n",
    "        The k + 1 column is zero and it will be set to v_new in the gmres.\n",
    "      \n",
    "    k : int\n",
    "        One less than the step we are obtaining in the Arnoldi's algorithm to increase\n",
    "        the dimension of the Krylov subspace. Must be >= 0.\n",
    "    \n",
    "    tol : float, optional\n",
    "        Tolerance for convergence. Default is 1e-12.\n",
    "\n",
    "    Returns:\n",
    "    --------\n",
    "    h_k : numpy.ndarray\n",
    "        The column k + 1 in Hessenberg matrix (k starts at 0).\n",
    "\n",
    "    v_new : numpy.ndarray\n",
    "        The new orthogonal vector in the basis of the Krylov subspace.\n",
    "\n",
    "    \"\"\"\n",
    "\n",
    "    # Initialize k + 2 nonzero elements of H along column k\n",
    "    h_k = np.zeros(k + 2)\n",
    "\n",
    "    # Calculate the new vector in the Krylov subspace\n",
    "    v_new = A @ V[:, k]\n",
    "\n",
    "    # Calculate the first k elements of the k-th Hessenberg column\n",
    "    for j in range(k + 1):\n",
    "        h_k[j] = v_new @ V[:, j]\n",
    "        v_new -= h_k[j] * V[:, j]\n",
    "\n",
    "    # Add the k+1 element\n",
    "    h_k[k + 1] = np.linalg.norm(v_new)\n",
    "\n",
    "    if h_k[k + 1] <= tol:\n",
    "        # Early termination with exact solution\n",
    "        return h_k, None\n",
    "    \n",
    "    else:\n",
    "        # Find the new orthogonal vector in the basis of the Krylov subspace\n",
    "        v_new /= h_k[k + 1]\n",
    "\n",
    "    return h_k, v_new"
   ]
  },
  {
   "cell_type": "markdown",
   "metadata": {},
   "source": [
    "# Unit tests"
   ]
  },
  {
   "cell_type": "markdown",
   "metadata": {},
   "source": [
    "### Small matrix just to verify the algorithm is working"
   ]
  },
  {
   "cell_type": "markdown",
   "metadata": {},
   "source": [
    "#### Verifying the elements from the first two iteration in the GMRES are correct"
   ]
  },
  {
   "cell_type": "code",
   "execution_count": 11,
   "metadata": {},
   "outputs": [],
   "source": [
    "n = 4\n",
    "A = np.array([[1, 1, 4, 9], [3, 4, 6, 9], [4, 1, 1, 3], [3, 2, 1, 1]])\n",
    "b = np.array([3, 2, 2, -3])\n",
    "x0 = np.array([0, 0, 0, 0])\n",
    "r0 = b - A @ x0\n",
    "\n",
    "V = np.zeros((n, 1))\n",
    "beta = np.linalg.norm(r0)\n",
    "V[:, 0] = r0 / beta\n",
    "V = np.concatenate((V, np.zeros((n, 1))), axis=1)\n",
    "\n",
    "H = np.zeros((n + 1, 1))\n",
    "H = np.concatenate((H, np.zeros((n + 1, 1))), axis=1)\n",
    "k = 0\n",
    "\n",
    "H[:(k + 2), k], v_new  = arnoldi_one_iter(A, V, k)\n",
    "V[:, k + 1] = v_new"
   ]
  },
  {
   "cell_type": "code",
   "execution_count": 12,
   "metadata": {},
   "outputs": [
    {
     "data": {
      "text/plain": [
       "(array([[ 0.58834841, -0.44357572],\n",
       "        [ 0.39223227,  0.41464687],\n",
       "        [ 0.39223227,  0.72804276],\n",
       "        [-0.58834841,  0.31821737]]),\n",
       " array([[-2.30769231,  0.        ],\n",
       "        [ 3.12888811,  0.        ],\n",
       "        [ 0.        ,  0.        ],\n",
       "        [ 0.        ,  0.        ],\n",
       "        [ 0.        ,  0.        ]]))"
      ]
     },
     "execution_count": 12,
     "metadata": {},
     "output_type": "execute_result"
    }
   ],
   "source": [
    "V, H"
   ]
  },
  {
   "cell_type": "code",
   "execution_count": 13,
   "metadata": {},
   "outputs": [
    {
     "data": {
      "text/plain": [
       "(array([[ 0.58834841],\n",
       "        [ 0.39223227],\n",
       "        [ 0.39223227],\n",
       "        [-0.58834841]]),\n",
       " array([[-2.30769231],\n",
       "        [ 3.12888811]]))"
      ]
     },
     "execution_count": 13,
     "metadata": {},
     "output_type": "execute_result"
    }
   ],
   "source": [
    "V[:, : k + 1] , H[: k + 2, : k + 1]"
   ]
  },
  {
   "cell_type": "code",
   "execution_count": 14,
   "metadata": {},
   "outputs": [
    {
     "data": {
      "text/plain": [
       "(array([[3.8878509]]), array([-0.59356502]))"
      ]
     },
     "execution_count": 14,
     "metadata": {},
     "output_type": "execute_result"
    }
   ],
   "source": [
    "from numpy.linalg import qr\n",
    "Q, R = qr(H[: k + 2, : k + 1], mode = 'complete')\n",
    "R[:-1, :], Q[0][:-1]"
   ]
  },
  {
   "cell_type": "markdown",
   "metadata": {},
   "source": [
    "#### Another iteration"
   ]
  },
  {
   "cell_type": "code",
   "execution_count": 15,
   "metadata": {},
   "outputs": [
    {
     "data": {
      "text/plain": [
       "(array([[ 0.58834841, -0.44357572,  0.        ],\n",
       "        [ 0.39223227,  0.41464687,  0.        ],\n",
       "        [ 0.39223227,  0.72804276,  0.        ],\n",
       "        [-0.58834841,  0.31821737,  0.        ]]),\n",
       " array([[-2.30769231,  0.        ,  0.        ],\n",
       "        [ 3.12888811,  0.        ,  0.        ],\n",
       "        [ 0.        ,  0.        ,  0.        ],\n",
       "        [ 0.        ,  0.        ,  0.        ],\n",
       "        [ 0.        ,  0.        ,  0.        ]]))"
      ]
     },
     "execution_count": 15,
     "metadata": {},
     "output_type": "execute_result"
    }
   ],
   "source": [
    "# Arnoldi iteration\n",
    "V = np.concatenate((V, np.zeros((n, 1))), axis=1)\n",
    "H = np.concatenate((H, np.zeros((n + 1, 1))), axis=1)\n",
    "V, H"
   ]
  },
  {
   "cell_type": "code",
   "execution_count": 16,
   "metadata": {},
   "outputs": [
    {
     "data": {
      "text/plain": [
       "(array([[ 0.58834841, -0.44357572,  0.        ],\n",
       "        [ 0.39223227,  0.41464687,  0.        ],\n",
       "        [ 0.39223227,  0.72804276,  0.        ],\n",
       "        [-0.58834841,  0.31821737,  0.        ]]),\n",
       " array([[-2.30769231,  6.15281806,  0.        ],\n",
       "        [ 3.12888811,  0.99400237,  0.        ],\n",
       "        [ 0.        ,  7.19312005,  0.        ],\n",
       "        [ 0.        ,  0.        ,  0.        ],\n",
       "        [ 0.        ,  0.        ,  0.        ]]))"
      ]
     },
     "execution_count": 16,
     "metadata": {},
     "output_type": "execute_result"
    }
   ],
   "source": [
    "k = 1\n",
    "\n",
    "H[:(k + 2), k], v_new  = arnoldi_one_iter(A, V, k)\n",
    "V, H"
   ]
  },
  {
   "cell_type": "code",
   "execution_count": 17,
   "metadata": {},
   "outputs": [
    {
     "data": {
      "text/plain": [
       "(array([[ 0.58834841, -0.44357572],\n",
       "        [ 0.39223227,  0.41464687],\n",
       "        [ 0.39223227,  0.72804276],\n",
       "        [-0.58834841,  0.31821737]]),\n",
       " array([[-2.30769231,  6.15281806],\n",
       "        [ 3.12888811,  0.99400237],\n",
       "        [ 0.        ,  7.19312005]]))"
      ]
     },
     "execution_count": 17,
     "metadata": {},
     "output_type": "execute_result"
    }
   ],
   "source": [
    "V[:, : k + 1] , H[: k + 2, : k + 1]"
   ]
  },
  {
   "cell_type": "code",
   "execution_count": 18,
   "metadata": {},
   "outputs": [
    {
     "data": {
      "text/plain": [
       "array([[ 0.58834841, -0.44357572,  0.35702353],\n",
       "       [ 0.39223227,  0.41464687,  0.65820942],\n",
       "       [ 0.39223227,  0.72804276, -0.39120314],\n",
       "       [-0.58834841,  0.31821737,  0.53502771]])"
      ]
     },
     "execution_count": 18,
     "metadata": {},
     "output_type": "execute_result"
    }
   ],
   "source": [
    "V[:, k + 1] = v_new\n",
    "V"
   ]
  },
  {
   "cell_type": "code",
   "execution_count": 19,
   "metadata": {},
   "outputs": [
    {
     "data": {
      "text/plain": [
       "(array([[ 0.58834841, -0.44357572],\n",
       "        [ 0.39223227,  0.41464687],\n",
       "        [ 0.39223227,  0.72804276],\n",
       "        [-0.58834841,  0.31821737]]),\n",
       " array([[ 0.58834841, -0.44357572],\n",
       "        [ 0.39223227,  0.41464687],\n",
       "        [ 0.39223227,  0.72804276],\n",
       "        [-0.58834841,  0.31821737]]))"
      ]
     },
     "execution_count": 19,
     "metadata": {},
     "output_type": "execute_result"
    }
   ],
   "source": [
    "V[:, :k + 1], V[:, :-1]"
   ]
  },
  {
   "cell_type": "code",
   "execution_count": 20,
   "metadata": {},
   "outputs": [
    {
     "data": {
      "text/plain": [
       "(array([[-0.59356502, -0.49116197, -0.63752685],\n",
       "        [ 0.80478604, -0.36225351, -0.47020403],\n",
       "        [ 0.        , -0.79216937,  0.61030131]]),\n",
       " array([[ 3.8878509 , -2.85213836],\n",
       "        [ 0.        , -9.08028048],\n",
       "        [ 0.        ,  0.        ]]))"
      ]
     },
     "execution_count": 20,
     "metadata": {},
     "output_type": "execute_result"
    }
   ],
   "source": [
    "Q, R = qr(H[: k + 2, : k + 1], mode = 'complete')\n",
    "Q[0][:-1]\n",
    "Q,R"
   ]
  }
 ],
 "metadata": {
  "kernelspec": {
   "display_name": "Python 3 (ipykernel)",
   "language": "python",
   "name": "python3"
  },
  "language_info": {
   "codemirror_mode": {
    "name": "ipython",
    "version": 3
   },
   "file_extension": ".py",
   "mimetype": "text/x-python",
   "name": "python",
   "nbconvert_exporter": "python",
   "pygments_lexer": "ipython3",
   "version": "3.11.5"
  }
 },
 "nbformat": 4,
 "nbformat_minor": 4
}
