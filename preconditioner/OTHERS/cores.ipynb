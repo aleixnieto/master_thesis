{
 "cells": [
  {
   "cell_type": "code",
   "execution_count": 1,
   "metadata": {},
   "outputs": [
    {
     "name": "stdout",
     "output_type": "stream",
     "text": [
      "Number of CPU cores: 20\n",
      "Number of threads per core: 1\n",
      "Total number of threads: 20\n"
     ]
    }
   ],
   "source": [
    "import os\n",
    "import multiprocessing\n",
    "\n",
    "# Number of CPU cores\n",
    "num_cores = multiprocessing.cpu_count()\n",
    "\n",
    "# Number of threads per core (for CPUs supporting hyper-threading)\n",
    "num_threads_per_core = os.cpu_count() // num_cores\n",
    "\n",
    "# Total number of threads\n",
    "total_threads = num_cores * num_threads_per_core\n",
    "\n",
    "print(\"Number of CPU cores:\", num_cores)\n",
    "print(\"Number of threads per core:\", num_threads_per_core)\n",
    "print(\"Total number of threads:\", total_threads)\n"
   ]
  }
 ],
 "metadata": {
  "kernelspec": {
   "display_name": "base",
   "language": "python",
   "name": "python3"
  },
  "language_info": {
   "codemirror_mode": {
    "name": "ipython",
    "version": 3
   },
   "file_extension": ".py",
   "mimetype": "text/x-python",
   "name": "python",
   "nbconvert_exporter": "python",
   "pygments_lexer": "ipython3",
   "version": "3.11.5"
  }
 },
 "nbformat": 4,
 "nbformat_minor": 2
}
