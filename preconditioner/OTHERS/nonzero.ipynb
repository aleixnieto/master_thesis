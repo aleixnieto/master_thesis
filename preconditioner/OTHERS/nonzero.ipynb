{
 "cells": [
  {
   "cell_type": "code",
   "execution_count": 1,
   "metadata": {},
   "outputs": [
    {
     "name": "stdout",
     "output_type": "stream",
     "text": [
      "Average number of nonzero elements: 3969.9775\n"
     ]
    }
   ],
   "source": [
    "import numpy as np\n",
    "import scipy\n",
    "from scipy.sparse import coo_matrix\n",
    "\n",
    "def count_nonzero_coo(matrix):\n",
    "    return len(matrix.data)\n",
    "\n",
    "n = 1000\n",
    "num_matrices = 10000\n",
    "total_nonzero_elements = 0\n",
    "\n",
    "for i in range(num_matrices):\n",
    "\n",
    "    random_state = 3893 + i\n",
    "    rng = np.random.RandomState(random_state)\n",
    "\n",
    "    zero_prob = rng.uniform(0.995, 0.999)\n",
    "    nnz = int((1 - zero_prob) * n ** 2)\n",
    "    rows = [rng.randint(0, n) for _ in range(nnz)]\n",
    "    cols = [rng.randint(0, n) for _ in range(nnz)]\n",
    "\n",
    "    uniques = set(zip(rows, cols))  # Ensure we do not have repeated edges\n",
    "    rows, cols = zip(*uniques)\n",
    "\n",
    "    # Generate values for non-zero elements\n",
    "    vals = np.array([rng.normal(0, 1) for _ in cols])\n",
    "    A = coo_matrix((vals, (rows, cols)), shape=(n, n))\n",
    "\n",
    "    # Set diagonal elements to a random number different from 0\n",
    "    diag_indices = np.arange(n)\n",
    "    diag_vals = rng.normal(0, 2, size=n)  # Random values for the diagonal elements\n",
    "    diag_vals[diag_vals == 0] = rng.uniform(1, 2)  # Replace 0s with a random number different than 0\n",
    "\n",
    "    A = A + coo_matrix((diag_vals, (diag_indices, diag_indices)), shape=(n, n))\n",
    "    A = coo_matrix(A)\n",
    "    nnz = count_nonzero_coo(A)\n",
    "    total_nonzero_elements += nnz\n",
    "\n",
    "average_nonzero_elements = total_nonzero_elements / num_matrices\n",
    "print(\"Average number of nonzero elements:\", average_nonzero_elements)\n",
    "\n"
   ]
  },
  {
   "cell_type": "code",
   "execution_count": 54,
   "metadata": {},
   "outputs": [
    {
     "name": "stdout",
     "output_type": "stream",
     "text": [
      "Average number of nonzero elements: 168228.0\n"
     ]
    }
   ],
   "source": [
    "import numpy as np\n",
    "import scipy\n",
    "from scipy.sparse import coo_matrix, csr_matrix, rand\n",
    "import pyamg\n",
    "\n",
    "def count_nonzero_coo(matrix):\n",
    "    return len(matrix.data)\n",
    "\n",
    "n = 2500\n",
    "num_matrices = 1\n",
    "total_nonzero_elements = 0\n",
    "\n",
    "n = int(np.sqrt(n))\n",
    "\n",
    "for i in range(num_matrices):\n",
    "\n",
    "\n",
    "    random_state = 3343 + i\n",
    "    rng = np.random.RandomState(random_state)\n",
    "\n",
    "    A = pyamg.gallery.poisson((n, n))\n",
    "    A = csr_matrix(A)\n",
    "\n",
    "    # Find the non-zero elements in the matrix\n",
    "    non_zero_indices = A.nonzero()\n",
    "\n",
    "    num_non_zero_elements = len(non_zero_indices[0])\n",
    "\n",
    "    # Determine the number of elements to perturb\n",
    "    perturb_percentage = rng.uniform(0.99, 0.99)\n",
    "    num_elements_to_perturb = int(perturb_percentage * num_non_zero_elements)\n",
    "\n",
    "    # Select a random subset of the non-zero elements\n",
    "    selected_indices = rng.choice(num_non_zero_elements, num_elements_to_perturb, replace=False)\n",
    "\n",
    "    # Generate random values for the selected non-zero elements\n",
    "    perturbation_values = rng.normal(0, 1, size=num_elements_to_perturb)\n",
    "\n",
    "    # Perturb the selected non-zero elements with different random values\n",
    "    A.data[selected_indices] += perturbation_values\n",
    "\n",
    "    # # Generate a random sparse matrix with a density between 0.5% and 2.5%\n",
    "    density = rng.uniform(0.025, 0.025)\n",
    "    random_sparse_matrix = scipy.sparse.random(A.shape[0], A.shape[1], density=density, format='csr', random_state=random_state)\n",
    "\n",
    "    # Add the random sparse matrix to A\n",
    "    A += random_sparse_matrix\n",
    "\n",
    "    A = coo_matrix(A)\n",
    "\n",
    "\n",
    "\n",
    "    nnz = count_nonzero_coo(A)\n",
    "    total_nonzero_elements += nnz\n",
    "    # print(total_nonzero_elements)\n",
    "\n",
    "average_nonzero_elements = total_nonzero_elements / num_matrices\n",
    "print(\"Average number of nonzero elements:\", average_nonzero_elements)"
   ]
  }
 ],
 "metadata": {
  "kernelspec": {
   "display_name": "base",
   "language": "python",
   "name": "python3"
  },
  "language_info": {
   "codemirror_mode": {
    "name": "ipython",
    "version": 3
   },
   "file_extension": ".py",
   "mimetype": "text/x-python",
   "name": "python",
   "nbconvert_exporter": "python",
   "pygments_lexer": "ipython3",
   "version": "3.11.5"
  }
 },
 "nbformat": 4,
 "nbformat_minor": 2
}
