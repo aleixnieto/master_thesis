{
 "cells": [
  {
   "cell_type": "markdown",
   "id": "f9230d73",
   "metadata": {},
   "source": [
    "# GMRES without restart"
   ]
  },
  {
   "cell_type": "code",
   "execution_count": 6,
   "id": "9a67dea6",
   "metadata": {},
   "outputs": [
    {
     "name": "stdout",
     "output_type": "stream",
     "text": [
      "1: 1.0e+00\n",
      "2: 1.7e+04\n",
      "3: 1.7e+08\n",
      "4: 1.7e+12\n",
      "5: 1.7e+16\n",
      "6: 4.1e+22\n",
      "7: 3.2e+26\n",
      "8: 1.1e+31\n",
      "9: 1.8e+35\n",
      "10: 2.9e+37\n",
      "11: 1.4e+45\n",
      "12: 3.0e+49\n",
      "13: 2.1e+56\n",
      "14: 2.4e+61\n",
      "15: 2.1e+63\n",
      "16: 4.7e+66\n",
      "17: 4.2e+70\n",
      "18: 1.2e+73\n",
      "19: 1.3e+81\n",
      "1.0\n",
      "1.0000000000000002\n",
      "1.0000000000000002\n",
      "1.0000000000000002\n",
      "1.0000000000000004\n",
      "Orthogonality error of Q: 1.6685700230051496e-14\n",
      "Shape of H: (101, 100)\n",
      "1.0\n",
      "1.0000000000000118\n",
      "1.0000000000000004\n",
      "1.0000000000000004\n",
      "1.0000000000000004\n",
      "1.0000000000000002\n",
      "1.0000000000000007\n",
      "1.0000000000000007\n",
      "1.0000000000000004\n",
      "1.0000000000000007\n",
      "1.0000000000000007\n",
      "1.0000000000000007\n",
      "1.0000000000000007\n",
      "1.0000000000000007\n",
      "1.0000000000000007\n",
      "1.0000000000000007\n",
      "1.0000000000000009\n",
      "1.0000000000000007\n",
      "1.0000000000000009\n",
      "1.0000000000000009\n",
      "1.0000000000000009\n",
      "1.0000000000000009\n",
      "1.0000000000000009\n",
      "1.0000000000000009\n",
      "1.0000000000000009\n",
      "1.0000000000000004\n",
      "1.0000000000000007\n",
      "1.0000000000000009\n",
      "1.0000000000000009\n",
      "1.0000000000000009\n",
      "1.0000000000000009\n",
      "1.0000000000000007\n",
      "1.0000000000000016\n",
      "1.0000000000000013\n",
      "1.0000000000000013\n",
      "1.000000000000002\n",
      "1.0000000000000007\n",
      "1.0000000000000016\n",
      "1.0000000000000018\n",
      "1.000000000000002\n",
      "1.0000000000000013\n",
      "1.0000000000000016\n",
      "1.0000000000000016\n",
      "1.0000000000000013\n",
      "1.0000000000000033\n",
      "1.000000000000001\n",
      "1.000000000000002\n",
      "1.0000000000000013\n",
      "1.0000000000000016\n",
      "1.0000000000000016\n",
      "1.0000000000000016\n",
      "1.0000000000000018\n",
      "1.0000000000000013\n",
      "1.0000000000000024\n",
      "1.000000000000001\n",
      "1.0000000000000016\n",
      "1.000000000000002\n",
      "1.0000000000000027\n",
      "1.0000000000000016\n",
      "1.0000000000000024\n",
      "1.0000000000000022\n",
      "1.0000000000000018\n",
      "1.0000000000000018\n",
      "1.0000000000000016\n",
      "1.0000000000000016\n",
      "1.000000000000002\n",
      "1.000000000000002\n",
      "1.000000000000002\n",
      "1.0000000000000013\n",
      "1.0000000000000018\n",
      "1.000000000000002\n",
      "1.000000000000002\n",
      "1.0000000000000016\n",
      "1.000000000000002\n",
      "1.0000000000000022\n",
      "1.0000000000000018\n",
      "1.0000000000000013\n",
      "1.000000000000001\n",
      "1.0000000000000018\n",
      "1.0000000000000018\n",
      "1.0000000000000027\n",
      "1.0000000000000018\n",
      "1.0000000000000024\n",
      "1.0000000000000013\n",
      "1.0000000000000013\n",
      "1.000000000000002\n",
      "1.0000000000000016\n",
      "1.000000000000002\n",
      "1.000000000000002\n",
      "1.000000000000003\n",
      "1.0000000000000018\n",
      "1.000000000000002\n",
      "1.0000000000000029\n",
      "1.000000000000002\n",
      "1.0000000000000013\n",
      "1.0000000000000013\n",
      "1.0000000000000018\n",
      "1.0000000000000018\n",
      "1.0000000000000024\n",
      "1.0000000000000029\n",
      "1.0000000000000024\n"
     ]
    }
   ],
   "source": [
    "from ipynb.fs.full.Arnoldi import arnoldi"
   ]
  },
  {
   "cell_type": "code",
   "execution_count": 5,
   "id": "7b05cc10",
   "metadata": {},
   "outputs": [
    {
     "name": "stdout",
     "output_type": "stream",
     "text": [
      "Collecting ipynb\n",
      "  Downloading ipynb-0.5.1-py3-none-any.whl (6.9 kB)\n",
      "Installing collected packages: ipynb\n",
      "Successfully installed ipynb-0.5.1\n",
      "Note: you may need to restart the kernel to use updated packages.\n"
     ]
    },
    {
     "name": "stderr",
     "output_type": "stream",
     "text": [
      "\n",
      "[notice] A new release of pip is available: 23.3.2 -> 24.0\n",
      "[notice] To update, run: python.exe -m pip install --upgrade pip\n"
     ]
    }
   ],
   "source": [
    "pip install ipynb"
   ]
  },
  {
   "cell_type": "code",
   "execution_count": null,
   "id": "c48a7648",
   "metadata": {},
   "outputs": [],
   "source": [
    "from numpy import zeros, ones, concatenate, matrix\n",
    "\n",
    "\n",
    "# class Gmres:\n",
    "#     MAX_ITERATIONS = 10000\n",
    "#     RESTART_AFTER = 500\n",
    "#     EPSILON = 1e-6\n",
    "# def GMRES(A, b, max_iterations , epsilon , restart_after):\n",
    "    \n",
    "#     r = b - np.asarray(np.dot(A, x0)).reshape(-1)\n",
    "    \n",
    "#     while error > self.epsilon and self.total_iterations < self.max_iterations and \n",
    "#             iteration <= self.n and iteration <= self.restart_after:\n",
    "            \n",
    "           "
   ]
  },
  {
   "cell_type": "code",
   "execution_count": null,
   "id": "b9d68425",
   "metadata": {
    "scrolled": true
   },
   "outputs": [],
   "source": [
    "A = np.matrix([[1, 1], [3,4]])\n",
    "b = np.array([3, 2])\n",
    "x0 = np.array([1, 2])\n",
    "\n",
    "epsilon = 0\n",
    "max_iter = 5\n",
    "\n",
    "x = GMRes(A, b, x0, epsilon, max_iter)\n",
    "\n",
    "x"
   ]
  },
  {
   "cell_type": "code",
   "execution_count": null,
   "id": "51ca1559",
   "metadata": {},
   "outputs": [],
   "source": [
    "import scipy.sparse.linalg as spla\n",
    "\n",
    "A = np.matrix([[1, 1], [3,4]])\n",
    "b = np.array([3, 2])\n",
    "x0 = np.array([1, 2])\n",
    "spla.gmres(A,b,x0)[0]"
   ]
  }
 ],
 "metadata": {
  "kernelspec": {
   "display_name": "Python 3 (ipykernel)",
   "language": "python",
   "name": "python3"
  },
  "language_info": {
   "codemirror_mode": {
    "name": "ipython",
    "version": 3
   },
   "file_extension": ".py",
   "mimetype": "text/x-python",
   "name": "python",
   "nbconvert_exporter": "python",
   "pygments_lexer": "ipython3",
   "version": "3.9.12"
  }
 },
 "nbformat": 4,
 "nbformat_minor": 5
}
