{
 "cells": [
  {
   "cell_type": "markdown",
   "id": "f9230d73",
   "metadata": {},
   "source": [
    "# GMRES"
   ]
  },
  {
   "cell_type": "code",
   "execution_count": 1,
   "id": "49c7a21d",
   "metadata": {},
   "outputs": [],
   "source": [
    "import numpy as np\n",
    "from numpy.linalg import qr\n",
    "\n",
    "from functions import arnoldi, back_substitution\n",
    "\n",
    "from scipy.sparse.linalg import lsqr\n",
    "from scipy.linalg import solve_triangular"
   ]
  },
  {
   "cell_type": "markdown",
   "id": "d52795e7",
   "metadata": {},
   "source": [
    "For some reason I cannot understand, the following code did not work with \n",
    "\n",
    "y = solve_triangular(R[:-1, :] , beta*Q[0][:-1], lower = True).\n",
    "\n",
    "Tried other solvers like scipy.sparse.linalg.lsqr and it worked. So I decided to implement back substitution manually."
   ]
  },
  {
   "cell_type": "code",
   "execution_count": 2,
   "id": "c48a7648",
   "metadata": {},
   "outputs": [],
   "source": [
    "def GMRES(A, b, x0, k_max = None , epsilon = 1e-8):\n",
    "    \"\"\"\n",
    "    Generalized Minimal RESidual method for solving linear systems.\n",
    "    \n",
    "    Parameters:\n",
    "    -----------\n",
    "    A : numpy.ndarray\n",
    "        Coefficient matrix of the linear system.\n",
    "        \n",
    "    b : numpy.ndarray\n",
    "        Right-hand side vector of the linear system.\n",
    "        \n",
    "    x0 : numpy.ndarray\n",
    "        Initial guess for the solution.\n",
    "        \n",
    "    k_max : int\n",
    "        Maximum number of iterations.\n",
    "        \n",
    "    epsilon : float, optional\n",
    "        Tolerance for convergence.\n",
    "    \n",
    "    Returns:\n",
    "    --------\n",
    "    numpy.ndarray\n",
    "        Approximate solution to the linear system.\n",
    "    \"\"\"\n",
    "    \n",
    "    n = A.shape[0]\n",
    "    \n",
    "    if (k_max is None):\n",
    "        k_max = n\n",
    "        \n",
    "    elif k_max > n:\n",
    "        k_max = n\n",
    "        \n",
    "    r0 = b - A @ x0\n",
    "    p0 = np.linalg.norm(r0)\n",
    "    beta = p0\n",
    "    pk = p0\n",
    "    k = 0\n",
    "    \n",
    "    while pk > epsilon*p0 and k < k_max:\n",
    "        \n",
    "        k += 1\n",
    "        \n",
    "        V, H = arnoldi(A, b, x0, k) # Arnoldi algorithm to generate V_{k+1} and H_{K+1, K}\n",
    "        \n",
    "        Q, R = qr(H, mode = 'complete')\n",
    "        \n",
    "        pk = abs(beta*Q[0, k]) # Compute norm of residual vector\n",
    "        \n",
    "        yk = back_substitution(R[:-1, :] , beta*Q[0][:-1])\n",
    "    \n",
    "        xk = x0 + V[:, :-1]@yk # Compute the new approximation x0 + V_{k}y\n",
    "        \n",
    "    return xk, pk"
   ]
  },
  {
   "cell_type": "markdown",
   "id": "79d0de38",
   "metadata": {},
   "source": [
    "# Unit tests"
   ]
  },
  {
   "cell_type": "markdown",
   "id": "426178ff",
   "metadata": {},
   "source": [
    "#### Simple systems. The results are the correct ones."
   ]
  },
  {
   "cell_type": "code",
   "execution_count": 3,
   "id": "b9d68425",
   "metadata": {
    "scrolled": true
   },
   "outputs": [
    {
     "data": {
      "text/plain": [
       "(array([10., -7.]), 0.0)"
      ]
     },
     "execution_count": 3,
     "metadata": {},
     "output_type": "execute_result"
    }
   ],
   "source": [
    "A = np.array([[1, 1], [3,4]])\n",
    "b = np.array([3, 2])\n",
    "x0 = np.array([1, 2])\n",
    "\n",
    "max_iter = 5\n",
    "\n",
    "x = GMRES(A, b, x0) # Not specifying max_iter it takes n = 2 iterations\n",
    "\n",
    "x"
   ]
  },
  {
   "cell_type": "code",
   "execution_count": 4,
   "id": "32008a6b",
   "metadata": {},
   "outputs": [
    {
     "data": {
      "text/plain": [
       "(array([1., 2., 2.]), 1.098089075328358e-16)"
      ]
     },
     "execution_count": 4,
     "metadata": {},
     "output_type": "execute_result"
    }
   ],
   "source": [
    "A = np.array([[1,0,0],[0,2,0],[0,0,3]])\n",
    "# A = lambda x: a.dot(x)\n",
    "b = np.array([1, 4, 6])\n",
    "x0 = np.zeros(b.size)\n",
    "GMRES(A, b, x0, 5)"
   ]
  },
  {
   "cell_type": "markdown",
   "id": "b211075f",
   "metadata": {},
   "source": [
    "#### Comparison with Scipy GMRES implementation"
   ]
  },
  {
   "cell_type": "code",
   "execution_count": 5,
   "id": "51ca1559",
   "metadata": {},
   "outputs": [
    {
     "data": {
      "text/plain": [
       "(array([ 2.96296296, -9.44444444, 10.7037037 , -3.7037037 ]),\n",
       " (array([ 2.96296296, -9.44444444, 10.7037037 , -3.7037037 ]),\n",
       "  1.0997010364081157e-14))"
      ]
     },
     "execution_count": 5,
     "metadata": {},
     "output_type": "execute_result"
    }
   ],
   "source": [
    "import scipy.sparse.linalg as spla\n",
    "\n",
    "A = np.array([[1, 1, 4, 9], [3, 4, 6, 9], [4, 1, 1, 3], [3, 2, 1, 1]])\n",
    "b = np.array([3, 2, 2, -3])\n",
    "x0 = np.array([0, 0, 1, 0])\n",
    "spla.gmres(A,b,x0, restart = None)[0], GMRES(A, b, x0, 4) # Converges in n = 4 iterations! God"
   ]
  },
  {
   "cell_type": "code",
   "execution_count": 7,
   "id": "dc573acc",
   "metadata": {},
   "outputs": [
    {
     "ename": "KeyboardInterrupt",
     "evalue": "",
     "output_type": "error",
     "traceback": [
      "\u001b[1;31m---------------------------------------------------------------------------\u001b[0m",
      "\u001b[1;31mKeyboardInterrupt\u001b[0m                         Traceback (most recent call last)",
      "Cell \u001b[1;32mIn[7], line 20\u001b[0m\n\u001b[0;32m     17\u001b[0m b \u001b[38;5;241m=\u001b[39m np\u001b[38;5;241m.\u001b[39mones(A\u001b[38;5;241m.\u001b[39mshape[\u001b[38;5;241m0\u001b[39m])\n\u001b[0;32m     18\u001b[0m x0 \u001b[38;5;241m=\u001b[39m np\u001b[38;5;241m.\u001b[39mzeros(b\u001b[38;5;241m.\u001b[39msize)\n\u001b[1;32m---> 20\u001b[0m x \u001b[38;5;241m=\u001b[39m spla\u001b[38;5;241m.\u001b[39mgmres(A, b, x0, restart \u001b[38;5;241m=\u001b[39m \u001b[38;5;241m100\u001b[39m, maxiter \u001b[38;5;241m=\u001b[39m \u001b[38;5;241m1000\u001b[39m)[\u001b[38;5;241m0\u001b[39m]\n\u001b[0;32m     21\u001b[0m residual_calculated1 \u001b[38;5;241m=\u001b[39m np\u001b[38;5;241m.\u001b[39mlinalg\u001b[38;5;241m.\u001b[39mnorm(A\u001b[38;5;129m@x\u001b[39m \u001b[38;5;241m-\u001b[39m b)\n\u001b[0;32m     23\u001b[0m \u001b[38;5;28mprint\u001b[39m(\u001b[38;5;124m\"\u001b[39m\u001b[38;5;124mCalculated Scipy residual with Ax-b:\u001b[39m\u001b[38;5;124m\"\u001b[39m, residual_calculated1)\n",
      "File \u001b[1;32m<decorator-gen-5>:2\u001b[0m, in \u001b[0;36mgmres\u001b[1;34m(A, b, x0, tol, restart, maxiter, M, callback, restrt, atol, callback_type)\u001b[0m\n",
      "File \u001b[1;32m~\\anaconda3\\Lib\\site-packages\\scipy\\_lib\\_threadsafety.py:44\u001b[0m, in \u001b[0;36mReentrancyLock.decorate.<locals>.caller\u001b[1;34m(func, *a, **kw)\u001b[0m\n\u001b[0;32m     42\u001b[0m \u001b[38;5;28;01mdef\u001b[39;00m \u001b[38;5;21mcaller\u001b[39m(func, \u001b[38;5;241m*\u001b[39ma, \u001b[38;5;241m*\u001b[39m\u001b[38;5;241m*\u001b[39mkw):\n\u001b[0;32m     43\u001b[0m     \u001b[38;5;28;01mwith\u001b[39;00m \u001b[38;5;28mself\u001b[39m:\n\u001b[1;32m---> 44\u001b[0m         \u001b[38;5;28;01mreturn\u001b[39;00m func(\u001b[38;5;241m*\u001b[39ma, \u001b[38;5;241m*\u001b[39m\u001b[38;5;241m*\u001b[39mkw)\n",
      "File \u001b[1;32m~\\anaconda3\\Lib\\site-packages\\scipy\\sparse\\linalg\\_isolve\\iterative.py:694\u001b[0m, in \u001b[0;36mgmres\u001b[1;34m(A, b, x0, tol, restart, maxiter, M, callback, restrt, atol, callback_type)\u001b[0m\n\u001b[0;32m    692\u001b[0m \u001b[38;5;28;01melif\u001b[39;00m (ijob \u001b[38;5;241m==\u001b[39m \u001b[38;5;241m3\u001b[39m):\n\u001b[0;32m    693\u001b[0m     work[slice2] \u001b[38;5;241m*\u001b[39m\u001b[38;5;241m=\u001b[39m sclr2\n\u001b[1;32m--> 694\u001b[0m     work[slice2] \u001b[38;5;241m+\u001b[39m\u001b[38;5;241m=\u001b[39m sclr1\u001b[38;5;241m*\u001b[39mmatvec(work[slice1])\n\u001b[0;32m    695\u001b[0m     \u001b[38;5;28;01mif\u001b[39;00m resid_ready:\n\u001b[0;32m    696\u001b[0m         \u001b[38;5;28;01mif\u001b[39;00m callback_type \u001b[38;5;129;01min\u001b[39;00m (\u001b[38;5;124m'\u001b[39m\u001b[38;5;124mpr_norm\u001b[39m\u001b[38;5;124m'\u001b[39m, \u001b[38;5;124m'\u001b[39m\u001b[38;5;124mlegacy\u001b[39m\u001b[38;5;124m'\u001b[39m):\n",
      "File \u001b[1;32m~\\anaconda3\\Lib\\site-packages\\scipy\\sparse\\linalg\\_interface.py:203\u001b[0m, in \u001b[0;36mLinearOperator.matvec\u001b[1;34m(self, x)\u001b[0m\n\u001b[0;32m    192\u001b[0m \u001b[38;5;250m    \u001b[39m\u001b[38;5;124;03m\"\"\"Default matrix-vector multiplication handler.\u001b[39;00m\n\u001b[0;32m    193\u001b[0m \n\u001b[0;32m    194\u001b[0m \u001b[38;5;124;03m    If self is a linear operator of shape (M, N), then this method will\u001b[39;00m\n\u001b[1;32m   (...)\u001b[0m\n\u001b[0;32m    199\u001b[0m \u001b[38;5;124;03m    will define matrix-vector multiplication as well.\u001b[39;00m\n\u001b[0;32m    200\u001b[0m \u001b[38;5;124;03m    \"\"\"\u001b[39;00m\n\u001b[0;32m    201\u001b[0m     \u001b[38;5;28;01mreturn\u001b[39;00m \u001b[38;5;28mself\u001b[39m\u001b[38;5;241m.\u001b[39mmatmat(x\u001b[38;5;241m.\u001b[39mreshape(\u001b[38;5;241m-\u001b[39m\u001b[38;5;241m1\u001b[39m, \u001b[38;5;241m1\u001b[39m))\n\u001b[1;32m--> 203\u001b[0m \u001b[38;5;28;01mdef\u001b[39;00m \u001b[38;5;21mmatvec\u001b[39m(\u001b[38;5;28mself\u001b[39m, x):\n\u001b[0;32m    204\u001b[0m \u001b[38;5;250m    \u001b[39m\u001b[38;5;124;03m\"\"\"Matrix-vector multiplication.\u001b[39;00m\n\u001b[0;32m    205\u001b[0m \n\u001b[0;32m    206\u001b[0m \u001b[38;5;124;03m    Performs the operation y=A*x where A is an MxN linear\u001b[39;00m\n\u001b[1;32m   (...)\u001b[0m\n\u001b[0;32m    224\u001b[0m \n\u001b[0;32m    225\u001b[0m \u001b[38;5;124;03m    \"\"\"\u001b[39;00m\n\u001b[0;32m    227\u001b[0m     x \u001b[38;5;241m=\u001b[39m np\u001b[38;5;241m.\u001b[39masanyarray(x)\n",
      "\u001b[1;31mKeyboardInterrupt\u001b[0m: "
     ]
    }
   ],
   "source": [
    "import scipy.io\n",
    "import scipy.sparse\n",
    "\n",
    "# Load the .mtx file\n",
    "A = scipy.io.mmread(\"data/bcsstk18.mtx\")\n",
    "\n",
    "# Convert the matrix to CRS format\n",
    "A = scipy.sparse.csr_matrix(A)\n",
    "\n",
    "# https://sparse.tamu.edu/HB/bcsstk18\n",
    "\n",
    "# Problem type: structural problem - S STIFFNESS MATRIX arised from R.E.GINNA NUCLEAR POWER STATION\n",
    "# Dimension: 11,948 x 11,948\n",
    "# 149,090 nonzero elements\n",
    "# Condition number: 3.459995e+11\n",
    "\n",
    "b = np.ones(A.shape[0])\n",
    "x0 = np.zeros(b.size)\n",
    "\n",
    "x = spla.gmres(A, b, x0, restart = 100, maxiter = 1000)[0]\n",
    "residual_calculated1 = np.linalg.norm(A@x - b)\n",
    "\n",
    "print(\"Calculated Scipy residual with Ax-b:\", residual_calculated1)\n",
    "\n",
    "x = GMRES(A, b, x0, restart = 100, maxiter = 1000)[0]\n",
    "residual_calculated2 = np.linalg.norm(A@x - b)\n",
    "\n",
    "print(\"\\nOur implementation residual with Ax-b:\", residual_calculated2)"
   ]
  },
  {
   "cell_type": "markdown",
   "id": "20e7cf87",
   "metadata": {},
   "source": [
    "Tried different restart values and more iterations and the residual consistently decreases, but it takes too long."
   ]
  }
 ],
 "metadata": {
  "kernelspec": {
   "display_name": "Python 3 (ipykernel)",
   "language": "python",
   "name": "python3"
  },
  "language_info": {
   "codemirror_mode": {
    "name": "ipython",
    "version": 3
   },
   "file_extension": ".py",
   "mimetype": "text/x-python",
   "name": "python",
   "nbconvert_exporter": "python",
   "pygments_lexer": "ipython3",
   "version": "3.11.5"
  }
 },
 "nbformat": 4,
 "nbformat_minor": 5
}
