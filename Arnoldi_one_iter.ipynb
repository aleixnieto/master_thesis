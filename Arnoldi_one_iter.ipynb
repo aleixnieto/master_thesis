{
 "cells": [
  {
   "cell_type": "markdown",
   "metadata": {},
   "source": [
    "# One iteration of Arnoldi's algorithm"
   ]
  },
  {
   "cell_type": "code",
   "execution_count": 6,
   "metadata": {},
   "outputs": [],
   "source": [
    "import numpy as np"
   ]
  },
  {
   "cell_type": "markdown",
   "metadata": {},
   "source": [
    "We import the full arnoldi algorithm to compare the results with the one iteration algorithm"
   ]
  },
  {
   "cell_type": "code",
   "execution_count": 7,
   "metadata": {},
   "outputs": [],
   "source": [
    "from preconditioner import iter_precondition\n",
    "\n",
    "def arnoldi(A, b, r0, m, precondition = False, M = None, tol = 1e-12):\n",
    "    \"\"\"\n",
    "    This function computes an orthonormal basis V_m = {v_1,...,v_{m+1}} of \n",
    "    K_{m+1}(A, r^{(0)}) = span{r^{(0)}, Ar^{(0)}, ..., A^{m}r^{(0)}}.\n",
    "\n",
    "    Input parameters:\n",
    "    -----------------\n",
    "      A: array_like\n",
    "          An (n x n) array.\n",
    "      \n",
    "      b: array_like\n",
    "          Initial vector of length n\n",
    "      \n",
    "      m: int\n",
    "          One less than the dimension of the Krylov subspace. Must be > 0.\n",
    "      \n",
    "      x0: array_like \n",
    "          Initial approximation of the solution (length n)\n",
    "      \n",
    "      tol: \n",
    "          Tolerance for convergence\n",
    "\n",
    "    Output:\n",
    "    -------\n",
    "      Q: numpy.array \n",
    "          n x m array, the columns are an orthonormal basis of the Krylov subspace.\n",
    "      \n",
    "      H: numpy.array\n",
    "          An (m + 1) x m array. It is the matrix A on basis Q. It is upper Hessenberg.\n",
    "    \"\"\"\n",
    "    \n",
    "    # TODO: Now we calculate precondition time at each iteration. The idea is that arnoldi algorithm only provides one \n",
    "    # - iteration at a time so we don't build every time the whole basis from scratch in the GMRES algorithm\n",
    "    # - torch?\n",
    "    # - instead of A, callable function that calculates Ax for any input vector x?\n",
    "    # Check inputs\n",
    "    n = A.shape[0]\n",
    "    assert A.shape == (n, n) and b.shape == (n,) and x0.shape == (n,), \"Matrix and vector dimensions don not match\"\n",
    "    assert isinstance(m, int) and m > 0, \"m must be a positive integer\"\n",
    "    \n",
    "    m = min(m, n)\n",
    "    \n",
    "    # Initialize matrices\n",
    "    V = np.zeros((n, m + 1))\n",
    "    H = np.zeros((m + 1, m))\n",
    "    \n",
    "    # Normalize input vector and use for Krylov vector\n",
    "    \n",
    "    beta = np.linalg.norm(r0)\n",
    "    V[:, 0] = r0 / beta\n",
    "\n",
    "    for k in range(1, m + 1):\n",
    "        # Generate a new candidate vector\n",
    "        w, _= iter_precondition(A, M, V, k, precondition)\n",
    "        \n",
    "        # Orthogonalization\n",
    "        for j in range(k):\n",
    "            H[j, k - 1] = V[:, j] @ w\n",
    "            w -= H[j, k - 1] * V[:, j]\n",
    "        \n",
    "        H[k, k - 1] = np.linalg.norm(w)\n",
    "\n",
    "        # Check convergence\n",
    "        if H[k, k - 1] <= tol:\n",
    "            print(f\"Converged in {k} iterations.\")\n",
    "            return V, H\n",
    "        \n",
    "        # Normalize and store the new basis vector\n",
    "        V[:, k] = w / H[k, k - 1]\n",
    "    \n",
    "    return V, H"
   ]
  },
  {
   "cell_type": "code",
   "execution_count": 8,
   "metadata": {},
   "outputs": [],
   "source": [
    "def arnoldi_one_iter(A, V, k, precondition=False, M=None, tol = 1e-12):\n",
    "    \"\"\"\n",
    "    Computes one iteration of Arnoldi iteration given the iteration index k\n",
    "\n",
    "    :param precondition:\n",
    "    :param A:\n",
    "    :param V:\n",
    "    :param k:\n",
    "    :return:\n",
    "    \"\"\"\n",
    "\n",
    "    # inialize k + 1 nonzero elements of H along column k. k starts at 0...\n",
    "    h_k = np.zeros((k + 2, ))\n",
    "\n",
    "    w, iter_precondition_time = iter_precondition(A, M, V, k + 1, precondition)\n",
    "    \n",
    "    # Calculate first k elements of the kth Hessenberg column\n",
    "    for j in range(k + 1): # Here k is from 0 to \n",
    "        h_k[j] = w @ V[:, j]\n",
    "        w = w - h_k[j] * V[:, j]\n",
    "\n",
    "    # h_k[k + 1] = sp_norm(w)\n",
    "    h_k[k + 1] = np.linalg.norm(w)\n",
    "\n",
    "    # check if 0\n",
    "    if h_k[k + 1] == 0:\n",
    "        # None for v to check in gmres (early termination with EXACT SOLUTION)\n",
    "        return h_k, None, 0\n",
    "    else:\n",
    "        # find the new orthogonal vector in the basis of the Krylov subspace\n",
    "        # assert h_k[k + 1] != 0\n",
    "        v_new = w / h_k[k + 1]\n",
    "\n",
    "    # v_new = w / h_k[k + 1]\n",
    "\n",
    "    return h_k, v_new, iter_precondition_time"
   ]
  },
  {
   "cell_type": "markdown",
   "metadata": {},
   "source": [
    "# Unit tests"
   ]
  },
  {
   "cell_type": "markdown",
   "metadata": {},
   "source": [
    "### Small matrix just to verify the algorithm is working"
   ]
  },
  {
   "cell_type": "code",
   "execution_count": 9,
   "metadata": {},
   "outputs": [],
   "source": [
    "from preconditioner import PreconditionEnum, initial_precondition"
   ]
  },
  {
   "cell_type": "code",
   "execution_count": 13,
   "metadata": {},
   "outputs": [
    {
     "data": {
      "text/plain": [
       "(array([[0.33772937],\n",
       "        [0.13453437],\n",
       "        [0.36631832],\n",
       "        [0.47942078],\n",
       "        [0.12394393],\n",
       "        [0.28707658],\n",
       "        [0.29499125],\n",
       "        [0.28513066],\n",
       "        [0.11115282],\n",
       "        [0.47471743]]),\n",
       " array([[3.92980991],\n",
       "        [1.98254355]]))"
      ]
     },
     "execution_count": 13,
     "metadata": {},
     "output_type": "execute_result"
    }
   ],
   "source": [
    "n = 10\n",
    "m = 1\n",
    "rand = np.random.RandomState(0)\n",
    "\n",
    "A = rand.rand(n, n)\n",
    "b = rand.rand(n)\n",
    "x0 = np.zeros(n)\n",
    "\n",
    "r0 = b - A @ x0\n",
    "precondition = PreconditionEnum.JACOBI\n",
    "\n",
    "M, _, _ = initial_precondition(A, precondition, r0) # r0 is not used here but in the PRECONDITIONED GMRES\n",
    "\n",
    "# V, H = arnoldi(A, b, x0, m, precondition = precondition, M = M)\n",
    "V, H = arnoldi(A, b, r0, m, precondition = None, M = None)\n",
    "\n",
    "n, _ = A.shape\n",
    "\n",
    "V = np.zeros((n, 1))\n",
    "r0 = b - A @ x0\n",
    "beta = np.linalg.norm(r0)\n",
    "V[:, 0] = r0 / beta\n",
    "V = np.concatenate((V, np.zeros((n, 1))), axis=1)\n",
    "\n",
    "H = np.zeros((n + 1, 1))\n",
    "H = np.concatenate((H, np.zeros((n + 1, 1))), axis=1)\n",
    "k = 0\n",
    "\n",
    "H[:(k + 2), k], v_new, iter_precondition_time = arnoldi_one_iter(A, V, k, precondition=False, M=None)\n",
    "\n",
    "V[:, k + 1] = v_new"
   ]
  },
  {
   "cell_type": "code",
   "execution_count": 65,
   "metadata": {},
   "outputs": [
    {
     "data": {
      "text/plain": [
       "array([[ 0.33772937,  0.17493401],\n",
       "       [ 0.13453437,  0.62463971],\n",
       "       [ 0.36631832,  0.15463533],\n",
       "       [ 0.47942078, -0.14437439],\n",
       "       [ 0.12394393,  0.28209878],\n",
       "       [ 0.28707658,  0.01984779],\n",
       "       [ 0.29499125, -0.12367891],\n",
       "       [ 0.28513066,  0.11598928],\n",
       "       [ 0.11115282,  0.4612879 ],\n",
       "       [ 0.47471743, -0.46147275]])"
      ]
     },
     "execution_count": 65,
     "metadata": {},
     "output_type": "execute_result"
    }
   ],
   "source": [
    "V[:, : k + 1] , H[: k + 2, : k +1]"
   ]
  },
  {
   "cell_type": "code",
   "execution_count": 44,
   "metadata": {},
   "outputs": [
    {
     "data": {
      "text/plain": [
       "array([[3.92980991, 0.        ]])"
      ]
     },
     "execution_count": 44,
     "metadata": {},
     "output_type": "execute_result"
    }
   ],
   "source": [
    "H[:(k + 1)]"
   ]
  },
  {
   "cell_type": "code",
   "execution_count": 50,
   "metadata": {},
   "outputs": [
    {
     "data": {
      "text/plain": [
       "array([], dtype=float64)"
      ]
     },
     "execution_count": 50,
     "metadata": {},
     "output_type": "execute_result"
    }
   ],
   "source": [
    "from numpy.linalg import qr\n",
    "Q, R = qr(H[:(k + 1)], mode = 'complete')\n",
    "Q[0][:-1]"
   ]
  }
 ],
 "metadata": {
  "kernelspec": {
   "display_name": "Python 3 (ipykernel)",
   "language": "python",
   "name": "python3"
  },
  "language_info": {
   "codemirror_mode": {
    "name": "ipython",
    "version": 3
   },
   "file_extension": ".py",
   "mimetype": "text/x-python",
   "name": "python",
   "nbconvert_exporter": "python",
   "pygments_lexer": "ipython3",
   "version": "3.11.5"
  }
 },
 "nbformat": 4,
 "nbformat_minor": 4
}
