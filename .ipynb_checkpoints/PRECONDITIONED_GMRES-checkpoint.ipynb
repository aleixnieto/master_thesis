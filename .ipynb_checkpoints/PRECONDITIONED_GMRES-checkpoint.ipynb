{
 "cells": [
  {
   "cell_type": "markdown",
   "id": "f9230d73",
   "metadata": {},
   "source": [
    "# GMRES WITH RESTART"
   ]
  },
  {
   "cell_type": "code",
   "execution_count": 1,
   "id": "49c7a21d",
   "metadata": {},
   "outputs": [],
   "source": [
    "import numpy as np\n",
    "from numpy.linalg import qr\n",
    "\n",
    "from functions import arnoldi, back_substitution\n",
    "from preconditioner import initial_precondition, PreconditionEnum\n",
    "\n",
    "from scipy.sparse.linalg import lsqr\n",
    "from scipy.linalg import solve_triangular"
   ]
  },
  {
   "cell_type": "code",
   "execution_count": 2,
   "id": "c48a7648",
   "metadata": {},
   "outputs": [],
   "source": [
    "def precon_GMRES_restarted(A, b, x0, k_max = None, restart = None, precondition = None, epsilon = 1e-12):\n",
    "    \"\"\"\n",
    "    Restarted Generalized Minimal RESidual method for solving linear systems.\n",
    "    \n",
    "    - Regular mode: when restart = None the full Krylov subspace is used to solve the problem. \n",
    "        This mode is guaranteed to find a solution (if one exists), but scales poorly.\n",
    "        \n",
    "    - Restarted mode: when restart = N then the Krylov subspace used by the solver is rebuilt every N steps. \n",
    "        This mode is not guaranteed to find a solution for certain intial conditions, but scales well.\n",
    "    \n",
    "    Parameters:\n",
    "    -----------\n",
    "    A : numpy.ndarray\n",
    "        Coefficient matrix of the linear system.\n",
    "        \n",
    "    b : numpy.ndarray\n",
    "        Right-hand side vector of the linear system.\n",
    "        \n",
    "    x0 : numpy.ndarray\n",
    "        Initial guess for the solution.\n",
    "        \n",
    "    k_max : int\n",
    "        Maximum number of iterations.\n",
    "        \n",
    "    restart : int, optional\n",
    "        Number of iterations before restart. If None, the method will not restart.\n",
    "        \n",
    "    epsilon : float, optional\n",
    "        Tolerance for convergence.\n",
    "    \n",
    "    Returns:\n",
    "    --------\n",
    "    numpy.ndarray\n",
    "        Approximate solution to the linear system.\n",
    "    \"\"\"\n",
    "    \n",
    "    n = A.shape[0]\n",
    "    \n",
    "    if (k_max is None):\n",
    "        k_max = n\n",
    "        \n",
    "    elif k_max > n:\n",
    "        k_max = n\n",
    "    \n",
    "    r0 = b - A @ x0\n",
    "    M, r0, _ = initial_precondition(A, precondition, r0) # Skipping the time for now\n",
    "    \n",
    "    # Apply initial preconditioning\n",
    "    \n",
    "    p0 = np.linalg.norm(r0)\n",
    "    beta = p0\n",
    "    pk = p0\n",
    "    k = 0\n",
    "    total_k = 0\n",
    "    \n",
    "    while pk > epsilon*p0 and total_k < k_max:\n",
    "        \n",
    "        k += 1\n",
    "        total_k += 1\n",
    "        \n",
    "        V, H = arnoldi(A, b, x0, k, precondition = precondition, M = M) # Arnoldi algorithm to generate V_{k+1} and H_{K+1, K}\n",
    "        \n",
    "        Q, R = qr(H, mode = 'complete')\n",
    "        \n",
    "        pk = abs(beta*Q[0, k]) # Compute norm of residual vector\n",
    "        \n",
    "        yk = back_substitution(R[:-1, :] , beta*Q[0][:-1])\n",
    "    \n",
    "        xk = x0 + V[:, :-1]@yk # Compute the new approximation x0 + V_{k}y\n",
    "        \n",
    "        if restart is not None and k == restart:\n",
    "            x0 = xk\n",
    "            r0 = b - A @ x0\n",
    "            p0 = np.linalg.norm(r0)\n",
    "            beta = p0\n",
    "            pk = p0\n",
    "            k = 0\n",
    "            \n",
    "    return xk, pk, total_k"
   ]
  },
  {
   "cell_type": "code",
   "execution_count": 3,
   "id": "466b12c9",
   "metadata": {},
   "outputs": [
    {
     "data": {
      "text/plain": [
       "array([[2., 0., 0.],\n",
       "       [0., 3., 0.],\n",
       "       [0., 0., 5.]])"
      ]
     },
     "execution_count": 3,
     "metadata": {},
     "output_type": "execute_result"
    }
   ],
   "source": [
    "import scipy.io\n",
    "from scipy.sparse import csr_matrix\n",
    "from scipy.sparse.linalg import gmres\n",
    "from time import time\n",
    "\n",
    "# Load the .mtx file\n",
    "A = np.array([[2,5,6],[2,3,4],[8,2,5]])\n",
    "\n",
    "# Convert the matrix to CRS format\n",
    "A = scipy.sparse.csr_matrix(A)\n",
    "\n",
    "b = np.ones(A.shape[0])\n",
    "\n",
    "x0 = np.zeros(b.size)\n",
    "\n",
    "r0 = b - A @ x0\n",
    "\n",
    "precondition = PreconditionEnum.JACOBI\n",
    "\n",
    "M, r0, _ = initial_precondition(A, precondition, r0) # Skipping the time for now\n",
    "M.toarray()"
   ]
  },
  {
   "cell_type": "code",
   "execution_count": 5,
   "id": "73fd1898",
   "metadata": {},
   "outputs": [
    {
     "name": "stdout",
     "output_type": "stream",
     "text": [
      "SciPy GMRES Time: 4.501636743545532\n",
      "Calculated Scipy residual with Ax-b (max_iterations = 10000, restart = 10): 75.12468642919224\n",
      "Optimized GMRES_restarted Time: 2.1095709800720215\n",
      "Our implementation residual with Ax-b (max_iterations = 10000, restart = 10): inf\n"
     ]
    }
   ],
   "source": [
    "import scipy.io\n",
    "from scipy.sparse import csr_matrix\n",
    "from scipy.sparse.linalg import gmres\n",
    "from time import time\n",
    "\n",
    "# Load the .mtx file\n",
    "A = scipy.io.mmread(\"data/bcsstk18.mtx\")\n",
    "\n",
    "# Convert the matrix to CRS format\n",
    "A = scipy.sparse.csr_matrix(A)\n",
    "\n",
    "b = np.ones(A.shape[0])\n",
    "\n",
    "x0 = np.zeros(b.size)\n",
    "\n",
    "maxiter = 10000\n",
    "restart = 10\n",
    "\n",
    "start_time = time()\n",
    "x, iterations = gmres(A, b, x0, restart = restart, maxiter = maxiter/restart)\n",
    "residual_calculated1 = np.linalg.norm(A@x - b)\n",
    "end_time = time()\n",
    "print(\"SciPy GMRES Time:\", end_time - start_time)\n",
    "\n",
    "print(f\"Calculated Scipy residual with Ax-b (max_iterations = {maxiter}, restart = {restart}): {residual_calculated1}\")\n",
    "\n",
    "start_time = time()\n",
    "x = precon_GMRES_restarted(A, b, x0, k_max = 10000, restart = restart, precondition = PreconditionEnum.JACOBI)[0]\n",
    "residual_calculated2 = np.linalg.norm(A@x - b)\n",
    "end_time = time()\n",
    "print(\"Optimized GMRES_restarted Time:\", end_time - start_time)\n",
    "\n",
    "print(f\"Our implementation residual with Ax-b (max_iterations = {maxiter}, restart = {restart}): {residual_calculated2}\")"
   ]
  },
  {
   "cell_type": "code",
   "execution_count": 6,
   "id": "1a88ef6f",
   "metadata": {},
   "outputs": [
    {
     "data": {
      "text/plain": [
       "array([-5.90038908e+126,  4.97765514e+128, -3.23440675e+129, ...,\n",
       "       -4.02064271e+138,  9.89978693e-001, -5.51968938e+139])"
      ]
     },
     "execution_count": 6,
     "metadata": {},
     "output_type": "execute_result"
    }
   ],
   "source": [
    "x"
   ]
  }
 ],
 "metadata": {
  "kernelspec": {
   "display_name": "Python 3 (ipykernel)",
   "language": "python",
   "name": "python3"
  },
  "language_info": {
   "codemirror_mode": {
    "name": "ipython",
    "version": 3
   },
   "file_extension": ".py",
   "mimetype": "text/x-python",
   "name": "python",
   "nbconvert_exporter": "python",
   "pygments_lexer": "ipython3",
   "version": "3.11.5"
  }
 },
 "nbformat": 4,
 "nbformat_minor": 5
}
