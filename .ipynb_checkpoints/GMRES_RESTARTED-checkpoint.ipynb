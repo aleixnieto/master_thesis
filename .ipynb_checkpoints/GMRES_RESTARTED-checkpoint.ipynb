{
 "cells": [
  {
   "cell_type": "markdown",
   "id": "f9230d73",
   "metadata": {},
   "source": [
    "# GMRES WITH RESTART"
   ]
  },
  {
   "cell_type": "code",
   "execution_count": 1,
   "id": "49c7a21d",
   "metadata": {},
   "outputs": [],
   "source": [
    "import numpy as np\n",
    "from numpy.linalg import qr\n",
    "\n",
    "from functions import arnoldi, back_substitution\n",
    "\n",
    "from scipy.sparse.linalg import lsqr\n",
    "from scipy.linalg import solve_triangular"
   ]
  },
  {
   "cell_type": "code",
   "execution_count": 2,
   "id": "c48a7648",
   "metadata": {},
   "outputs": [],
   "source": [
    "def GMRES_restarted(A, b, x0, k_max = None, restart = None, epsilon = 1e-12):\n",
    "    \"\"\"\n",
    "    Restarted Generalized Minimal RESidual method for solving linear systems.\n",
    "    \n",
    "    Parameters:\n",
    "    -----------\n",
    "    A : numpy.ndarray\n",
    "        Coefficient matrix of the linear system.\n",
    "        \n",
    "    b : numpy.ndarray\n",
    "        Right-hand side vector of the linear system.\n",
    "        \n",
    "    x0 : numpy.ndarray\n",
    "        Initial guess for the solution.\n",
    "        \n",
    "    k_max : int or None\n",
    "        Maximum number of iterations. When None  we set k_max to the dimension of A.\n",
    "        \n",
    "    restart : int or None\n",
    "        Number of iterations before restart. If None, the method will not restart.\n",
    "        \n",
    "    epsilon : float or None \n",
    "        Tolerance for convergence.\n",
    "    \n",
    "    Returns:\n",
    "    --------\n",
    "    xk : numpy.ndarray\n",
    "        Approximate solution to the linear system.\n",
    "    \n",
    "    pk : float\n",
    "        Norm of the residual vector.\n",
    "    \n",
    "    total_k : int\n",
    "        Total number of iterations performed.\n",
    "    \"\"\"\n",
    "    \n",
    "    n = A.shape[0]\n",
    "    \n",
    "    if (k_max is None):\n",
    "        k_max = n\n",
    "        \n",
    "    elif k_max > n:\n",
    "        k_max = n\n",
    "    \n",
    "    r0 = b - A @ x0\n",
    "    p0 = np.linalg.norm(r0)\n",
    "    beta = p0\n",
    "    pk = p0\n",
    "    k = 0\n",
    "    total_k = 0\n",
    "    \n",
    "    while pk > epsilon*p0 and total_k < k_max:\n",
    "        \n",
    "        k += 1\n",
    "        total_k += 1\n",
    "        \n",
    "        V, H = arnoldi(A, b, r0, k) # Arnoldi algorithm to generate V_{k+1} and H_{K+1, K}\n",
    "        \n",
    "        Q, R = qr(H, mode = 'complete')\n",
    "        \n",
    "        pk = abs(beta*Q[0, k]) # Compute norm of residual vector\n",
    "        \n",
    "        yk = back_substitution(R[:-1, :] , beta*Q[0][:-1])\n",
    "    \n",
    "        xk = x0 + V[:, :-1]@yk # Compute the new approximation x0 + V_{k}y\n",
    "        \n",
    "        if restart is not None and k == restart:\n",
    "            x0 = xk\n",
    "            r0 = b - A @ x0\n",
    "            p0 = np.linalg.norm(r0)\n",
    "            beta = p0\n",
    "            pk = p0\n",
    "            k = 0\n",
    "            \n",
    "    return xk, pk, total_k"
   ]
  },
  {
   "cell_type": "markdown",
   "id": "79d0de38",
   "metadata": {},
   "source": [
    "# Unit tests"
   ]
  },
  {
   "cell_type": "markdown",
   "id": "7cd51473",
   "metadata": {},
   "source": [
    "## Test 1: Comparing against restarted gmres from scipy (csr format), $n=5,000$."
   ]
  },
  {
   "cell_type": "code",
   "execution_count": 3,
   "id": "3b5e2741",
   "metadata": {},
   "outputs": [],
   "source": [
    "from scipy.sparse import random\n",
    "\n",
    "n = 5000\n",
    "density = 0.004  # 100k elements that are not 0\n",
    "\n",
    "# Setting up random state\n",
    "random_state = np.random.RandomState(73)\n",
    "\n",
    "# Generating sparse matrix\n",
    "A_sparse = random(n, n, density=density, format='csr', random_state = random_state)\n",
    "\n",
    "# Generate random right-hand side vector and initial guess\n",
    "b = random_state.rand(n)"
   ]
  },
  {
   "cell_type": "code",
   "execution_count": 4,
   "id": "06a6c275",
   "metadata": {},
   "outputs": [
    {
     "name": "stdout",
     "output_type": "stream",
     "text": [
      "Condition number of A: 4.68e+04\n"
     ]
    }
   ],
   "source": [
    "# Convert sparse matrix to dense matrix\n",
    "A_dense = A_sparse.toarray()\n",
    "\n",
    "# Calculate condition number\n",
    "condition_number = np.linalg.cond(A_dense)\n",
    "\n",
    "# Format condition number in scientific notation\n",
    "formatted_condition_number = \"{:.2e}\".format(condition_number)\n",
    "\n",
    "print(\"Condition number of A:\", formatted_condition_number)"
   ]
  },
  {
   "cell_type": "code",
   "execution_count": 5,
   "id": "13ffdfff",
   "metadata": {},
   "outputs": [],
   "source": [
    "from scipy.sparse.linalg import spsolve\n",
    "\n",
    "# Solve the linear system\n",
    "x_exact = spsolve(A_sparse, b)"
   ]
  },
  {
   "cell_type": "code",
   "execution_count": 6,
   "id": "043d8c10",
   "metadata": {},
   "outputs": [
    {
     "name": "stdout",
     "output_type": "stream",
     "text": [
      "Optimized GMRES_restarted Time: 17.92550754547119\n",
      "SciPy GMRES Time: 316.357807636261\n",
      "Difference between our solution and SciPy solution: 6.165789893066034e-14\n",
      "\n",
      "Difference between our solution and the exact solution: 2315.9671257267255\n",
      "Residual calculated with Ax-b (restart = 20): 22.27423621262416\n",
      "Residual given by pk (restart = 20): 22.27423621262416\n",
      "Number of iterations: 5000\n",
      "\n",
      "Difference between SciPy solution and the exact solution: 2315.9671257267255\n",
      "Residual calculated with Ax-b (restart = 20): 22.274236212624164\n",
      "Number of iterations: 50000\n"
     ]
    }
   ],
   "source": [
    "import numpy as np\n",
    "from scipy.sparse.linalg import gmres\n",
    "from time import time\n",
    "\n",
    "x0 = np.zeros(n)\n",
    "\n",
    "# Parameters\n",
    "restart = 20\n",
    "epsilon = 1e-8\n",
    "\n",
    "# Solve using GMRES_restarted\n",
    "start_time = time()\n",
    "x_optimized, residual, iterations1 = GMRES_restarted(A_sparse, b, x0, k_max = None, restart = restart)\n",
    "end_time = time()\n",
    "print(\"Optimized GMRES_restarted Time:\", end_time - start_time)\n",
    "\n",
    "# Solve using SciPy's GMRES\n",
    "start_time = time()\n",
    "x_scipy, iterations2 = gmres(A_sparse, b, x0 = x0, restart = restart, maxiter = None, tol = epsilon)\n",
    "end_time = time()\n",
    "print(\"SciPy GMRES Time:\", end_time - start_time)\n",
    "\n",
    "# Check if solutions are close\n",
    "print(\"Difference between our solution and SciPy solution:\", np.linalg.norm(x_optimized - x_scipy))\n",
    "\n",
    "print(\"\\nDifference between our solution and the exact solution:\", np.linalg.norm(x_optimized - x_exact))\n",
    "residual_calculated1 = np.linalg.norm(A_sparse@x_optimized - b)\n",
    "print(\"Residual calculated with Ax-b (restart = 20):\", residual_calculated1)\n",
    "print(\"Residual given by pk (restart = 20):\", residual)\n",
    "print(\"Number of iterations:\", iterations1)\n",
    "\n",
    "print(\"\\nDifference between SciPy solution and the exact solution:\", np.linalg.norm(x_scipy - x_exact))\n",
    "residual_calculated1 = np.linalg.norm(A_sparse@x_scipy - b)\n",
    "print(\"Residual calculated with Ax-b (restart = 20):\", residual_calculated1)\n",
    "print(\"Number of iterations:\", iterations2)"
   ]
  },
  {
   "cell_type": "markdown",
   "id": "fe51fcb7",
   "metadata": {},
   "source": [
    "Note that we are not converging in this problem. The residual is around 22 both for our implementation and the Scipy implementation. "
   ]
  },
  {
   "cell_type": "markdown",
   "id": "f593fba2",
   "metadata": {},
   "source": [
    "## Test 2: Comparing SciPy implementation and our implementation in a matrix arised from a structural problem"
   ]
  },
  {
   "cell_type": "markdown",
   "id": "71b18d00",
   "metadata": {},
   "source": [
    "https://sparse.tamu.edu/HB/bcsstk18\n",
    "\n",
    "**Problem type:** structural problem - S STIFFNESS MATRIX arised from R.E.GINNA NUCLEAR POWER STATION\n",
    "\n",
    "**Dimension:** 11,948 x 11,948\n",
    "\n",
    "**Nonzero elements:** 149,090\n",
    "\n",
    "**Condition number:** 3.459995e+11"
   ]
  },
  {
   "cell_type": "code",
   "execution_count": 7,
   "id": "b035d51d",
   "metadata": {},
   "outputs": [
    {
     "name": "stdout",
     "output_type": "stream",
     "text": [
      "SciPy GMRES Time: 5.9756574630737305\n",
      "Calculated Scipy residual with Ax-b (max_iterations = 10000, restart = 20): 70.57320010911614\n",
      "Optimized GMRES_restarted Time: 73.16574335098267\n",
      "Our implementation residual with Ax-b (max_iterations = 10000, restart = 20): 70.57320020880756\n"
     ]
    }
   ],
   "source": [
    "import scipy.io\n",
    "import scipy.sparse\n",
    "\n",
    "# Load the .mtx file\n",
    "A = scipy.io.mmread(\"data/bcsstk18.mtx\")\n",
    "\n",
    "# Convert the matrix to CRS format\n",
    "A = scipy.sparse.csr_matrix(A)\n",
    "\n",
    "b = np.ones(A.shape[0])\n",
    "\n",
    "x0 = np.zeros(b.size)\n",
    "\n",
    "maxiter = 10000\n",
    "restart = 20\n",
    "\n",
    "start_time = time()\n",
    "x, iterations = gmres(A, b, x0, restart = 20, maxiter = maxiter/restart)\n",
    "residual_calculated1 = np.linalg.norm(A@x - b)\n",
    "end_time = time()\n",
    "print(\"SciPy GMRES Time:\", end_time - start_time)\n",
    "\n",
    "print(f\"Calculated Scipy residual with Ax-b (max_iterations = {maxiter}, restart = {restart}): {residual_calculated1}\")\n",
    "\n",
    "start_time = time()\n",
    "x = GMRES_restarted(A, b, x0, k_max = 10000, restart = 20)[0]\n",
    "residual_calculated2 = np.linalg.norm(A@x - b)\n",
    "end_time = time()\n",
    "print(\"Optimized GMRES_restarted Time:\", end_time - start_time)\n",
    "\n",
    "print(f\"Our implementation residual with Ax-b (max_iterations = {maxiter}, restart = {restart}): {residual_calculated2}\")"
   ]
  },
  {
   "cell_type": "markdown",
   "id": "af7fdf86",
   "metadata": {},
   "source": [
    "## Test 3: Poisson problem in the unit square $\\Omega = [0,1]^2$ with $x=0$ in $\\partial\\Omega$."
   ]
  },
  {
   "cell_type": "code",
   "execution_count": 8,
   "id": "edc8e640",
   "metadata": {},
   "outputs": [],
   "source": [
    "from scipy.sparse import coo_matrix\n",
    "\n",
    "def discretise_poisson(N):\n",
    "    \"\"\"Generate the matrix and rhs associated with the discrete Poisson operator.\"\"\"\n",
    "    \n",
    "    nelements = 5 * N**2 - 16 * N + 16\n",
    "    \n",
    "    row_ind = np.empty(nelements, dtype=np.float64)\n",
    "    col_ind = np.empty(nelements, dtype=np.float64)\n",
    "    data = np.empty(nelements, dtype=np.float64)\n",
    "    \n",
    "    f = np.empty(N * N, dtype=np.float64)\n",
    "    \n",
    "    count = 0\n",
    "    for j in range(N):\n",
    "        for i in range(N):\n",
    "            if i == 0 or i == N - 1 or j == 0 or j == N - 1:\n",
    "                row_ind[count] = col_ind[count] = j * N + i\n",
    "                data[count] =  1\n",
    "                f[j * N + i] = 0\n",
    "                count += 1\n",
    "                \n",
    "            else:\n",
    "                row_ind[count : count + 5] = j * N + i\n",
    "                col_ind[count] = j * N + i\n",
    "                col_ind[count + 1] = j * N + i + 1\n",
    "                col_ind[count + 2] = j * N + i - 1\n",
    "                col_ind[count + 3] = (j + 1) * N + i\n",
    "                col_ind[count + 4] = (j - 1) * N + i\n",
    "                                \n",
    "                data[count] = 4 * (N - 1)**2\n",
    "                data[count + 1 : count + 5] = - (N - 1)**2\n",
    "                f[j * N + i] = 1\n",
    "                \n",
    "                count += 5\n",
    "                                                \n",
    "    return coo_matrix((data, (row_ind, col_ind)), shape=(N**2, N**2)).tocsr(), f"
   ]
  },
  {
   "cell_type": "code",
   "execution_count": 9,
   "id": "b0cfcb73",
   "metadata": {},
   "outputs": [
    {
     "data": {
      "text/plain": [
       "((10000, 10000), (10000,))"
      ]
     },
     "execution_count": 9,
     "metadata": {},
     "output_type": "execute_result"
    }
   ],
   "source": [
    "from matplotlib import pyplot as plt\n",
    "from mpl_toolkits.mplot3d import Axes3D\n",
    "from matplotlib import cm\n",
    "\n",
    "from scipy.sparse.linalg import spsolve\n",
    "\n",
    "N = 100\n",
    "\n",
    "A, f = discretise_poisson(N)\n",
    "\n",
    "A.shape, f.shape"
   ]
  },
  {
   "cell_type": "code",
   "execution_count": 10,
   "id": "bd12d677",
   "metadata": {},
   "outputs": [
    {
     "name": "stdout",
     "output_type": "stream",
     "text": [
      "Condition number of A: 4.22e+05\n"
     ]
    }
   ],
   "source": [
    "# Convert sparse matrix to dense matrix\n",
    "A_dense = A.toarray()\n",
    "\n",
    "# Calculate condition number\n",
    "condition_number = np.linalg.cond(A_dense)\n",
    "\n",
    "# Format condition number in scientific notation\n",
    "formatted_condition_number = \"{:.2e}\".format(condition_number)\n",
    "\n",
    "print(\"Condition number of A:\", formatted_condition_number)"
   ]
  },
  {
   "cell_type": "markdown",
   "id": "85377c85",
   "metadata": {},
   "source": [
    "Do not seet a maximum number of iterations: it will run until the dimension of $A$. Maybe we should increase the number of iterations as it does not converge in $n$ iterations as it should in exact arithmetics."
   ]
  },
  {
   "cell_type": "code",
   "execution_count": 11,
   "id": "a4361b55",
   "metadata": {},
   "outputs": [
    {
     "name": "stdout",
     "output_type": "stream",
     "text": [
      "Our implementation residual with Ax-b (restart = 10): 47.97977620135408\n",
      "\n",
      "Our implementation residual with Ax-b (restart = 20): 30.403591750727188\n",
      "\n",
      "Our implementation residual with Ax-b (restart = 50): 11.18081205072279\n"
     ]
    }
   ],
   "source": [
    "x0 = np.zeros(N*N)\n",
    "\n",
    "# Parameters\n",
    "k_max = 100\n",
    "epsilon = 1e-12\n",
    "\n",
    "x1, _, _= GMRES_restarted(A, f, x0, k_max, restart= 10)\n",
    "\n",
    "residual = np.linalg.norm(A@x1 - f)\n",
    "\n",
    "print(\"Our implementation residual with Ax-b (restart = 10):\", residual)\n",
    "\n",
    "x2, _, _= GMRES_restarted(A, f, x0, k_max, restart= 20)\n",
    "\n",
    "residual = np.linalg.norm(A@x2 - f)\n",
    "\n",
    "print(\"\\nOur implementation residual with Ax-b (restart = 20):\", residual)\n",
    "\n",
    "x3, _, _= GMRES_restarted(A, f, x0, k_max, restart= 50)\n",
    "\n",
    "residual = np.linalg.norm(A@x3 - f)\n",
    "\n",
    "print(\"\\nOur implementation residual with Ax-b (restart = 50):\", residual)"
   ]
  },
  {
   "cell_type": "markdown",
   "id": "d3ed54a4",
   "metadata": {},
   "source": [
    "## Test 4: Comparing different restart values"
   ]
  },
  {
   "cell_type": "code",
   "execution_count": 12,
   "id": "9daf88cf",
   "metadata": {},
   "outputs": [
    {
     "name": "stdout",
     "output_type": "stream",
     "text": [
      "Converged in 200 iterations.\n",
      "Converged in 200 iterations.\n",
      "Residual without restarting and 200 iterations (dim A): 2.753590325652915e-14\n"
     ]
    },
    {
     "data": {
      "image/png": "[encoded data removed]",
      "text/plain": [
       "<Figure size 1000x600 with 2 Axes>"
      ]
     },
     "metadata": {},
     "output_type": "display_data"
    }
   ],
   "source": [
    "import numpy as np\n",
    "from scipy.sparse import random\n",
    "import matplotlib.pyplot as plt\n",
    "import time\n",
    "\n",
    "# Define the GMRES_restarted function here\n",
    "\n",
    "def generate_sparse_matrix(n, density=0.1):\n",
    "    \"\"\"\n",
    "    Generate a random sparse matrix.\n",
    "    \n",
    "    Parameters:\n",
    "    -----------\n",
    "    n : int\n",
    "        Size of the matrix.\n",
    "        \n",
    "    density : float, optional\n",
    "        Density of non-zero elements.\n",
    "        \n",
    "    Returns:\n",
    "    --------\n",
    "    scipy.sparse.csr_matrix\n",
    "        Random sparse matrix.\n",
    "    \"\"\"\n",
    "    return random(n, n, density = density, format='csr')\n",
    "\n",
    "def compare_restart_values(n, density=0.1, k_max=None, restart_values=[None, 5, 10, 20], epsilon=1e-12):\n",
    "    \"\"\"\n",
    "    Compare different restart values for GMRES restarted method.\n",
    "    \n",
    "    Parameters:\n",
    "    -----------\n",
    "    n : int\n",
    "        Size of the matrix.\n",
    "        \n",
    "    density : float, optional\n",
    "        Density of non-zero elements in the sparse matrix.\n",
    "        \n",
    "    k_max : int, optional\n",
    "        Maximum number of iterations.\n",
    "        \n",
    "    restart_values : list, optional\n",
    "        List of restart values to compare.\n",
    "        \n",
    "    epsilon : float, optional\n",
    "        Tolerance for convergence.\n",
    "    \"\"\"\n",
    "    A = generate_sparse_matrix(n, density)\n",
    "    b = np.random.rand(n)\n",
    "    x0 = np.zeros_like(b)\n",
    "    \n",
    "    residuals = []\n",
    "    times = []\n",
    "    \n",
    "    for restart in restart_values:\n",
    "        start_time = time.time()\n",
    "        xk, residual, total_iterations = GMRES_restarted(A, b, x0, k_max=k_max, restart=restart, epsilon=epsilon)\n",
    "        end_time = time.time()\n",
    "        residuals.append(residual)\n",
    "        times.append(end_time - start_time)\n",
    "    \n",
    "    sol, _, _ = GMRES_restarted(A, b, x0, k_max = None, restart=None, epsilon = epsilon)\n",
    "    residual = np.linalg.norm(A@sol - b)\n",
    "    print(\"Residual without restarting and 200 iterations (dim A):\", residual)\n",
    "    \n",
    "    # Plotting\n",
    "    plt.figure(figsize=(10, 6))\n",
    "    \n",
    "    # Plot for residuals\n",
    "    plt.subplot(2, 1, 1)\n",
    "    plt.plot(restart_values, residuals, marker='o')\n",
    "    plt.title('Residuals vs Restart Values')\n",
    "    plt.xlabel('Restart Values')\n",
    "    plt.ylabel('Residual')\n",
    "    plt.grid(True)\n",
    "    \n",
    "    # Plot for time\n",
    "    plt.subplot(2, 1, 2)\n",
    "    plt.plot(restart_values, times, marker='o')\n",
    "    plt.title('Time vs Restart Values')\n",
    "    plt.xlabel('Restart Values')\n",
    "    plt.ylabel('Time (s)')\n",
    "    plt.grid(True)\n",
    "    \n",
    "    plt.tight_layout()\n",
    "    plt.show()\n",
    "\n",
    "compare_restart_values(200, density = 0.1, k_max = None, restart_values=[10, 20, 30, 40, 50, 60, 70, 80, 90, 100, 110, 120, 130, 140, 150, 160, 170, 180, 190, 200])"
   ]
  },
  {
   "cell_type": "markdown",
   "id": "d3469474",
   "metadata": {},
   "source": [
    "# Comments"
   ]
  },
  {
   "cell_type": "markdown",
   "id": "bad3905a",
   "metadata": {},
   "source": [
    "- Test1 does not converge. Moreover, it gets stuck and it does not improve even though we perform more iterations\n",
    "- Test2 converges to the residual so slowly. One can play with the parameters and see that everytime the residual decreases, however it takes too long if set the restart parameter to large values. **We can also see that our implementation is way more slower than the SciPy's one.**"
   ]
  },
  {
   "cell_type": "markdown",
   "id": "2ea5cd49",
   "metadata": {},
   "source": [
    "Due to the ill-conditioning of the original matrix we were not able to converge in some of the tests. Let's try to improve the condition number of our linear system by preconditioning it --> **PRECONDITIONED GMRES**"
   ]
  }
 ],
 "metadata": {
  "kernelspec": {
   "display_name": "Python 3 (ipykernel)",
   "language": "python",
   "name": "python3"
  },
  "language_info": {
   "codemirror_mode": {
    "name": "ipython",
    "version": 3
   },
   "file_extension": ".py",
   "mimetype": "text/x-python",
   "name": "python",
   "nbconvert_exporter": "python",
   "pygments_lexer": "ipython3",
   "version": "3.11.5"
  }
 },
 "nbformat": 4,
 "nbformat_minor": 5
}
