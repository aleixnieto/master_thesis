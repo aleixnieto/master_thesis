{
 "cells": [
  {
   "cell_type": "markdown",
   "id": "f9230d73",
   "metadata": {},
   "source": [
    "# LEFT PRECONDITIONED GMRES"
   ]
  },
  {
   "cell_type": "code",
   "execution_count": 1,
   "id": "49c7a21d",
   "metadata": {},
   "outputs": [],
   "source": [
    "import numpy as np\n",
    "from time import time\n",
    "from numpy.linalg import qr\n",
    "\n",
    "from functions import arnoldi_one_iter, back_substitution\n",
    "from preconditioner import preconditioner, residual_precondition, MinvA, PreconditionEnum\n",
    "\n",
    "from scipy.sparse.linalg import lsqr\n",
    "from scipy.sparse import csr_matrix\n",
    "from scipy.sparse import coo_matrix\n",
    "from scipy.sparse.linalg import gmres\n",
    "import scipy.io"
   ]
  },
  {
   "cell_type": "code",
   "execution_count": 2,
   "id": "c48a7648",
   "metadata": {},
   "outputs": [],
   "source": [
    "def precon_GMRES_restarted(A, b, x0, k_max=None, restart=None, precondition=None, epsilon=1e-12):\n",
    "    \"\"\"\n",
    "    Generalized Minimal RESidual method for solving linear systems. With both restart and left preconditioning options.\n",
    "    \n",
    "    Parameters:\n",
    "    -----------\n",
    "    A : numpy.ndarray\n",
    "        Coefficient matrix of the linear system.\n",
    "        \n",
    "    b : numpy.ndarray\n",
    "        Right-hand side vector of the linear system.\n",
    "        \n",
    "    x0 : numpy.ndarray\n",
    "        Initial guess for the solution.\n",
    "        \n",
    "    k_max : int, optional\n",
    "        Maximum number of iterations. Defaults to None, which sets it to the dimension of A.\n",
    "        \n",
    "    restart : int, optional\n",
    "        Number of iterations before restart. If None, the method will not restart.\n",
    "        \n",
    "    precondition: PreconditionEnum or None, optional\n",
    "        An enumeration representing the preconditioning method to be applied. Defaults to None.\n",
    "    \n",
    "    epsilon : float, optional\n",
    "        Tolerance for convergence. Defaults to 1e-12.\n",
    "    \n",
    "    Returns:\n",
    "    --------\n",
    "    xk : numpy.ndarray\n",
    "        Approximate solution to the linear system.\n",
    "    \n",
    "    error_list : list\n",
    "        List containing the error at each iteration.\n",
    "    \n",
    "    total_k : int\n",
    "        Total number of iterations performed.\n",
    "        \n",
    "    total_precondition_time : float\n",
    "        Total time spent on preconditioning.\n",
    "    \"\"\"\n",
    "    \n",
    "    n = A.shape[0]\n",
    "    \n",
    "    if k_max is None or k_max > n:\n",
    "        k_max = n\n",
    "    \n",
    "    r0 = b - A @ x0\n",
    "    total_precondition_time = 0\n",
    "    \n",
    "    # Preconditioner\n",
    "    M, precondition_time = preconditioner(A, precondition)\n",
    "    total_precondition_time += precondition_time\n",
    "    \n",
    "    # Apply initial preconditioning\n",
    "    r0, precondition_time = residual_precondition(M, precondition, r0) \n",
    "    total_precondition_time += precondition_time\n",
    "    \n",
    "    # Calculate M^{-1}A that we will use in each iteration.\n",
    "    Minv_A, precondition_time = MinvA(A, M, precondition)\n",
    "    total_precondition_time += precondition_time\n",
    "\n",
    "    p0 = np.linalg.norm(r0)\n",
    "    beta = p0\n",
    "    pk = p0\n",
    "    k = 0\n",
    "    total_k = 0\n",
    "    \n",
    "    # Save list of errors at each iteration\n",
    "    error_list = [pk]\n",
    "    \n",
    "    # Initialize the V basis of the Krylov subspace (concatenate as iteration continues). May terminate early.\n",
    "    V = np.zeros((n, 1))\n",
    "    V[:, 0] = r0 / beta\n",
    "    \n",
    "    # Hessenberg matrix\n",
    "    H = np.zeros((n + 1, 1))        \n",
    "    \n",
    "    while pk > epsilon * p0 and total_k < k_max:\n",
    "\n",
    "        # Arnoldi iteration\n",
    "        V = np.concatenate((V, np.zeros((n, 1))), axis=1)\n",
    "        H = np.concatenate((H, np.zeros((n + 1, 1))), axis=1)\n",
    "        \n",
    "        # Minv_A will be A if precondition is None\n",
    "        H[:k + 2, k], v_new = arnoldi_one_iter(Minv_A, V, k)\n",
    "\n",
    "        if v_new is None:\n",
    "            print(\"ENCOUNTER EXACT SOLUTION\")\n",
    "            # Append 0 for plots...\n",
    "            error_list.append(0)\n",
    "            break\n",
    "        \n",
    "        else:\n",
    "            V[:, k + 1] = v_new\n",
    "        \n",
    "        Q, R = qr(H[:k + 2, :k + 1], mode='complete')\n",
    "        \n",
    "        pk = abs(beta * Q[0, k])  # Compute norm of residual vector\n",
    "        error_list.append(pk)  # Add new error at current iteration       \n",
    "        \n",
    "        yk = back_substitution(R[:-1, :], beta * Q[0][:-1])\n",
    "        xk = x0 + V[:, :k + 1] @ yk  # Compute the new approximation x0 + V_{k}y\n",
    "\n",
    "        k += 1\n",
    "        total_k += 1\n",
    "        \n",
    "        if restart is not None and k == restart:\n",
    "            x0 = xk\n",
    "            r0 = b - A @ x0\n",
    "            \n",
    "            r0, precondition_time = residual_precondition(M, precondition, r0) \n",
    "            total_precondition_time += precondition_time\n",
    "            \n",
    "            p0 = np.linalg.norm(r0)\n",
    "            beta = p0\n",
    "            pk = p0\n",
    "            k = 0\n",
    "            \n",
    "            V = np.zeros((n, 1))\n",
    "            V[:, 0] = r0 / beta\n",
    "            H = np.zeros((n + 1, 1))\n",
    "  \n",
    "    return xk, error_list, total_k, total_precondition_time\n"
   ]
  },
  {
   "cell_type": "markdown",
   "id": "ffaacab8",
   "metadata": {},
   "source": [
    "#### Trying if the Jacobi preconditioner is formed correctly"
   ]
  },
  {
   "cell_type": "code",
   "execution_count": 3,
   "id": "466b12c9",
   "metadata": {},
   "outputs": [
    {
     "data": {
      "text/plain": [
       "array([[2., 0., 0.],\n",
       "       [0., 3., 0.],\n",
       "       [0., 0., 5.]])"
      ]
     },
     "execution_count": 3,
     "metadata": {},
     "output_type": "execute_result"
    }
   ],
   "source": [
    "A = np.array([[2,5,6],[2,3,4],[8,2,5]])\n",
    "\n",
    "# Convert the matrix to CRS format\n",
    "A = scipy.sparse.csr_matrix(A)\n",
    "\n",
    "b = np.ones(A.shape[0])\n",
    "\n",
    "x0 = np.zeros(b.size)\n",
    "\n",
    "r0 = b - A @ x0\n",
    "\n",
    "precondition = PreconditionEnum.JACOBI\n",
    "\n",
    "M, _ = preconditioner(A, precondition) # Skipping the time for now\n",
    "M.toarray()"
   ]
  },
  {
   "cell_type": "markdown",
   "id": "44228a88",
   "metadata": {},
   "source": [
    "# Unit tests"
   ]
  },
  {
   "cell_type": "markdown",
   "id": "d1e7785a",
   "metadata": {},
   "source": [
    "## Test 1: Poisson problem in the unit square $\\Omega = [0,1]^2$ with $x=0$ in $\\partial\\Omega$."
   ]
  },
  {
   "cell_type": "code",
   "execution_count": 4,
   "id": "385c9e22",
   "metadata": {},
   "outputs": [],
   "source": [
    "def discretise_poisson(N):\n",
    "    \"\"\"Generate the matrix and rhs associated with the discrete Poisson operator.\"\"\"\n",
    "    \n",
    "    nelements = 5 * N**2 - 16 * N + 16\n",
    "    \n",
    "    row_ind = np.empty(nelements, dtype=np.float64)\n",
    "    col_ind = np.empty(nelements, dtype=np.float64)\n",
    "    data = np.empty(nelements, dtype=np.float64)\n",
    "    \n",
    "    f = np.empty(N * N, dtype=np.float64)\n",
    "    \n",
    "    count = 0\n",
    "    for j in range(N):\n",
    "        for i in range(N):\n",
    "            if i == 0 or i == N - 1 or j == 0 or j == N - 1:\n",
    "                row_ind[count] = col_ind[count] = j * N + i\n",
    "                data[count] =  1\n",
    "                f[j * N + i] = 0\n",
    "                count += 1\n",
    "                \n",
    "            else:\n",
    "                row_ind[count : count + 5] = j * N + i\n",
    "                col_ind[count] = j * N + i\n",
    "                col_ind[count + 1] = j * N + i + 1\n",
    "                col_ind[count + 2] = j * N + i - 1\n",
    "                col_ind[count + 3] = (j + 1) * N + i\n",
    "                col_ind[count + 4] = (j - 1) * N + i\n",
    "                                \n",
    "                data[count] = 4 * (N - 1)**2\n",
    "                data[count + 1 : count + 5] = - (N - 1)**2\n",
    "                f[j * N + i] = 1\n",
    "                \n",
    "                count += 5\n",
    "                                                \n",
    "    return coo_matrix((data, (row_ind, col_ind)), shape=(N**2, N**2)).tocsr(), f"
   ]
  },
  {
   "cell_type": "code",
   "execution_count": 5,
   "id": "0fc6793f",
   "metadata": {},
   "outputs": [],
   "source": [
    "def jacobi_preconditioner(A):\n",
    "    n = A.shape[0]\n",
    "    diag = A.diagonal()\n",
    "    M = csr_matrix((1/diag, (range(n), range(n))), shape=(n,n))\n",
    "    return M"
   ]
  },
  {
   "cell_type": "code",
   "execution_count": 7,
   "id": "73fd1898",
   "metadata": {},
   "outputs": [
    {
     "name": "stdout",
     "output_type": "stream",
     "text": [
      "SciPy GMRES Time: 0.7837040424346924\n",
      "Calculated Scipy residual with Ax-b (max_iterations = 1000, restart = 100): 4.6998720033478336e-11\n",
      "Optimized GMRES_restarted Time: 8.35564637184143\n",
      "Our implementation residual with Ax-b (max_iterations = 1000, restart = 100): 1.626869575571971e-11\n",
      "1.9923641681671143\n"
     ]
    }
   ],
   "source": [
    "N = 100\n",
    "\n",
    "A, b = discretise_poisson(N)\n",
    "\n",
    "A = csr_matrix(A)\n",
    "\n",
    "M = jacobi_preconditioner(A)\n",
    "\n",
    "x0 = np.zeros(b.size)\n",
    "\n",
    "r0 = b - A @ x0\n",
    "\n",
    "maxiter = 1000\n",
    "restart = 100\n",
    "\n",
    "start_time = time()\n",
    "x, iterations = gmres(A, b, x0, M = None, restart = restart, maxiter = maxiter/restart, tol=1e-12)\n",
    "residual_calculated1 = np.linalg.norm(A@x - b)\n",
    "end_time = time()\n",
    "print(\"SciPy GMRES Time:\", end_time - start_time)\n",
    "\n",
    "print(f\"Calculated Scipy residual with Ax-b (max_iterations = {maxiter}, restart = {restart}): {residual_calculated1}\")\n",
    "\n",
    "start_time = time()\n",
    "x, _,_, precon_time = precon_GMRES_restarted(A, b, x0, k_max = maxiter, restart = restart, precondition = PreconditionEnum.JACOBI)\n",
    "residual_calculated2 = np.linalg.norm(A@x - b)\n",
    "end_time = time()\n",
    "print(\"Optimized GMRES_restarted Time:\", end_time - start_time)\n",
    "\n",
    "print(f\"Our implementation residual with Ax-b (max_iterations = {maxiter}, restart = {restart}): {residual_calculated2}\")\n",
    "print(precon_time)"
   ]
  },
  {
   "cell_type": "markdown",
   "id": "81f3e4a4",
   "metadata": {},
   "source": [
    "## Test 3: Comparing SciPy implementation and our implementation in a matrix arised from a structural problem"
   ]
  },
  {
   "cell_type": "code",
   "execution_count": 14,
   "id": "1a88ef6f",
   "metadata": {},
   "outputs": [
    {
     "name": "stdout",
     "output_type": "stream",
     "text": [
      "SciPy GMRES Time: 0.14118432998657227\n",
      "Calculated Scipy residual with Ax-b (max_iterations = 200, restart = 20): 86.58666553730122\n",
      "Optimized GMRES_restarted Time: 0.3330082893371582\n",
      "Our implementation residual with Ax-b (max_iterations = 200, restart = 20): 86.58666553849324\n"
     ]
    }
   ],
   "source": [
    "# Load the .mtx file\n",
    "A = scipy.io.mmread(\"data/bcsstk18.mtx\")\n",
    "\n",
    "M = jacobi_preconditioner(A)\n",
    "\n",
    "# Convert the matrix to CSR format\n",
    "A = csr_matrix(A)\n",
    "\n",
    "b = np.ones(A.shape[0])\n",
    "\n",
    "x0 = np.zeros(b.size)\n",
    "\n",
    "maxiter = 200\n",
    "restart = 20\n",
    "\n",
    "start_time = time()\n",
    "x, iterations = gmres(A, b, x0, M = None, restart = restart, maxiter = maxiter/restart)\n",
    "residual_calculated1 = np.linalg.norm(A@x - b)\n",
    "end_time = time()\n",
    "print(\"SciPy GMRES Time:\", end_time - start_time)\n",
    "\n",
    "print(f\"Calculated Scipy residual with Ax-b (max_iterations = {maxiter}, restart = {restart}): {residual_calculated1}\")\n",
    "\n",
    "start_time = time()\n",
    "x = precon_GMRES_restarted(A, b, x0, k_max = maxiter, restart = restart, precondition = None)[0]\n",
    "# x = custom_gmres(A, b, x0, num_max_iter= 200, precondition = PreconditionEnum.JACOBI)[0]\n",
    "residual_calculated2 = np.linalg.norm(A@x - b)\n",
    "end_time = time()\n",
    "print(\"Optimized GMRES_restarted Time:\", end_time - start_time)\n",
    "\n",
    "print(f\"Our implementation residual with Ax-b (max_iterations = {maxiter}, restart = {restart}): {residual_calculated2}\")"
   ]
  },
  {
   "cell_type": "markdown",
   "id": "46a4bc6d",
   "metadata": {},
   "source": [
    "Let us increase the number of iterations."
   ]
  },
  {
   "cell_type": "code",
   "execution_count": 13,
   "id": "bd6f05c8",
   "metadata": {},
   "outputs": [
    {
     "name": "stdout",
     "output_type": "stream",
     "text": [
      "SciPy GMRES Time: 5.815363645553589\n",
      "Calculated Scipy residual with Ax-b (max_iterations = 10000, restart = 20): 70.57320010911614\n",
      "\n",
      "Optimized GMRES_restarted Time: 16.81348729133606\n",
      "Our implementation residual with Ax-b (max_iterations = 10000, restart = 20): 70.57320020880756\n"
     ]
    }
   ],
   "source": [
    "maxiter = 10000\n",
    "restart = 20\n",
    "\n",
    "start_time = time()\n",
    "x, iterations = gmres(A, b, x0, restart = restart, maxiter = maxiter/restart)\n",
    "residual_calculated1 = np.linalg.norm(A@x - b)\n",
    "end_time = time()\n",
    "print(\"SciPy GMRES Time:\", end_time - start_time)\n",
    "\n",
    "print(f\"Calculated Scipy residual with Ax-b (max_iterations = {maxiter}, restart = {restart}): {residual_calculated1}\")\n",
    "\n",
    "start_time = time()\n",
    "x = precon_GMRES_restarted(A, b, x0, k_max = 10000, restart = restart)[0]\n",
    "residual_calculated2 = np.linalg.norm(A@x - b)\n",
    "end_time = time()\n",
    "print(\"\\nOptimized GMRES_restarted Time:\", end_time - start_time)\n",
    "\n",
    "print(f\"Our implementation residual with Ax-b (max_iterations = {maxiter}, restart = {restart}): {residual_calculated2}\")"
   ]
  },
  {
   "cell_type": "markdown",
   "id": "2dbea2a6",
   "metadata": {},
   "source": [
    "BEFORE IT TOOK 73 SECONDS. NOW 17! Let's try preconditioning."
   ]
  },
  {
   "cell_type": "markdown",
   "id": "87c125d2",
   "metadata": {},
   "source": [
    "### Now, let's try with the JACOBI preconditioner"
   ]
  },
  {
   "cell_type": "code",
   "execution_count": 17,
   "id": "6bf70272",
   "metadata": {},
   "outputs": [
    {
     "name": "stdout",
     "output_type": "stream",
     "text": [
      "SciPy GMRES Time: 4.1002278327941895\n",
      "Calculated Scipy residual with Ax-b (max_iterations = 10000, restart = 50, preconditioner = Jacobi): 0.000925857460697826\n",
      "Optimized GMRES_restarted Time: 37.82939791679382\n",
      "Our implementation residual with Ax-b (max_iterations = 10000, restart = 50, preconditioner = Jacobi): 9.139956087047615e-10\n"
     ]
    }
   ],
   "source": [
    "maxiter = 10000\n",
    "restart = 50\n",
    "\n",
    "start_time = time()\n",
    "x, iterations = gmres(A, b, x0, M = M, restart = restart, maxiter = maxiter/restart)\n",
    "residual_calculated1 = np.linalg.norm(A@x - b)\n",
    "end_time = time()\n",
    "print(\"SciPy GMRES Time:\", end_time - start_time)\n",
    "\n",
    "print(f\"Calculated Scipy residual with Ax-b (max_iterations = {maxiter}, restart = {restart}, preconditioner = Jacobi): {residual_calculated1}\")\n",
    "\n",
    "start_time = time()\n",
    "x = precon_GMRES_restarted(A, b, x0, k_max = maxiter, restart = restart, precondition = PreconditionEnum.JACOBI)[0]\n",
    "residual_calculated2 = np.linalg.norm(A@x - b)\n",
    "end_time = time()\n",
    "print(\"Optimized GMRES_restarted Time:\", end_time - start_time)\n",
    "\n",
    "print(f\"Our implementation residual with Ax-b (max_iterations = {maxiter}, restart = {restart}, preconditioner = Jacobi): {residual_calculated2}\")"
   ]
  },
  {
   "cell_type": "markdown",
   "id": "293e5d01",
   "metadata": {},
   "source": [
    "The residual decreases way more in our implementation! However, it takes longer due to the preconditioner calculation (it is not optimal the preconditioner calculation, we need to update it)."
   ]
  }
 ],
 "metadata": {
  "kernelspec": {
   "display_name": "Python 3 (ipykernel)",
   "language": "python",
   "name": "python3"
  },
  "language_info": {
   "codemirror_mode": {
    "name": "ipython",
    "version": 3
   },
   "file_extension": ".py",
   "mimetype": "text/x-python",
   "name": "python",
   "nbconvert_exporter": "python",
   "pygments_lexer": "ipython3",
   "version": "3.11.5"
  }
 },
 "nbformat": 4,
 "nbformat_minor": 5
}
