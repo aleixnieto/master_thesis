{
 "cells": [
  {
   "cell_type": "markdown",
   "metadata": {},
   "source": [
    "# One iteration of Arnoldi's algorithm"
   ]
  },
  {
   "cell_type": "code",
   "execution_count": 2,
   "metadata": {},
   "outputs": [],
   "source": [
    "import numpy as np"
   ]
  },
  {
   "cell_type": "code",
   "execution_count": 3,
   "metadata": {},
   "outputs": [],
   "source": [
    "import numpy as np\n",
    "\n",
    "def arnoldi_one_iter(A, V, k, tol=1e-12):\n",
    "    \"\"\"\n",
    "    Computes the new vectors of the Arnoldi iteration for both V_{k+1} and H_{k + 1, k}\n",
    "\n",
    "    Parameters:\n",
    "    -----------\n",
    "    A : numpy.ndarray\n",
    "        An (n x n) array representing the matrix.\n",
    "          \n",
    "    V : numpy.ndarray\n",
    "        An (n x (k + 1)) array. The current Krylov orthonormal basis. \n",
    "        The k + 1 column is zero and it will be set to v_new in the gmres.\n",
    "      \n",
    "    k : int\n",
    "        One less than the step we are obtaining in the Arnoldi's algorithm to increase\n",
    "        the dimension of the Krylov subspace. Must be >= 0.\n",
    "    \n",
    "    tol : float, optional\n",
    "        Tolerance for convergence. Default is 1e-12.\n",
    "\n",
    "    Returns:\n",
    "    --------\n",
    "    h_k : numpy.ndarray\n",
    "        The column k + 1 in Hessenberg matrix (k starts at 0).\n",
    "\n",
    "    v_new : numpy.ndarray\n",
    "        The new orthogonal vector in the basis of the Krylov subspace.\n",
    "\n",
    "    \"\"\"\n",
    "\n",
    "    n = A.shape[0]  # Dimension of the matrix\n",
    "\n",
    "    # Initialize k + 2 nonzero elements of H along column k\n",
    "    h_k = np.zeros(k + 2)\n",
    "\n",
    "    # Calculate the new vector in the Krylov subspace\n",
    "    v_new = A @ V[:, k]\n",
    "\n",
    "    # Calculate the first k elements of the kth Hessenberg column\n",
    "    for j in range(k + 1):\n",
    "        h_k[j] = v_new @ V[:, j]\n",
    "        v_new -= h_k[j] * V[:, j]\n",
    "\n",
    "    # Add the k+1 element\n",
    "    h_k[k + 1] = np.linalg.norm(v_new)\n",
    "\n",
    "    if h_k[k + 1] <= tol:\n",
    "        # Early termination with exact solution\n",
    "        return h_k, None\n",
    "    \n",
    "    else:\n",
    "        # Find the new orthogonal vector in the basis of the Krylov subspace\n",
    "        v_new /= h_k[k + 1]\n",
    "\n",
    "    return h_k, v_new"
   ]
  },
  {
   "cell_type": "markdown",
   "metadata": {},
   "source": [
    "# Unit tests"
   ]
  },
  {
   "cell_type": "markdown",
   "metadata": {},
   "source": [
    "### Small matrix just to verify the algorithm is working"
   ]
  },
  {
   "cell_type": "markdown",
   "metadata": {},
   "source": [
    "#### Verifying the elements from the first iteration in the GMRES are correct"
   ]
  },
  {
   "cell_type": "code",
   "execution_count": 8,
   "metadata": {},
   "outputs": [],
   "source": [
    "from preconditioner import MinvA\n",
    "from scipy.sparse import csr_matrix\n",
    "\n",
    "rand = np.random.RandomState(0)\n",
    "\n",
    "n = 10\n",
    "\n",
    "A = rand.rand(n, n)\n",
    "A = csr_matrix(A)\n",
    "\n",
    "b = rand.rand(n)\n",
    "x0 = np.zeros(n)\n",
    "\n",
    "r0 = b - A @ x0\n",
    "\n",
    "\n",
    "V = np.zeros((n, 1))\n",
    "beta = np.linalg.norm(r0)\n",
    "V[:, 0] = r0 / beta\n",
    "V = np.concatenate((V, np.zeros((n, 1))), axis=1)\n",
    "\n",
    "H = np.zeros((n + 1, 1))\n",
    "H = np.concatenate((H, np.zeros((n + 1, 1))), axis=1)\n",
    "k = 0\n",
    "\n",
    "H[:(k + 2), k], v_new  = arnoldi_one_iter(A, V, k)\n",
    "V[:, k + 1] = v_new"
   ]
  },
  {
   "cell_type": "code",
   "execution_count": 9,
   "metadata": {},
   "outputs": [
    {
     "data": {
      "text/plain": [
       "(array([[ 0.33772937,  0.17493401],\n",
       "        [ 0.13453437,  0.62463971],\n",
       "        [ 0.36631832,  0.15463533],\n",
       "        [ 0.47942078, -0.14437439],\n",
       "        [ 0.12394393,  0.28209878],\n",
       "        [ 0.28707658,  0.01984779],\n",
       "        [ 0.29499125, -0.12367891],\n",
       "        [ 0.28513066,  0.11598928],\n",
       "        [ 0.11115282,  0.4612879 ],\n",
       "        [ 0.47471743, -0.46147275]]),\n",
       " array([[3.92980991, 0.        ],\n",
       "        [1.98254355, 0.        ],\n",
       "        [0.        , 0.        ],\n",
       "        [0.        , 0.        ],\n",
       "        [0.        , 0.        ],\n",
       "        [0.        , 0.        ],\n",
       "        [0.        , 0.        ],\n",
       "        [0.        , 0.        ],\n",
       "        [0.        , 0.        ],\n",
       "        [0.        , 0.        ],\n",
       "        [0.        , 0.        ]]))"
      ]
     },
     "execution_count": 9,
     "metadata": {},
     "output_type": "execute_result"
    }
   ],
   "source": [
    "V, H"
   ]
  },
  {
   "cell_type": "code",
   "execution_count": 10,
   "metadata": {},
   "outputs": [
    {
     "data": {
      "text/plain": [
       "(array([[0.33772937],\n",
       "        [0.13453437],\n",
       "        [0.36631832],\n",
       "        [0.47942078],\n",
       "        [0.12394393],\n",
       "        [0.28707658],\n",
       "        [0.29499125],\n",
       "        [0.28513066],\n",
       "        [0.11115282],\n",
       "        [0.47471743]]),\n",
       " array([[3.92980991],\n",
       "        [1.98254355]]))"
      ]
     },
     "execution_count": 10,
     "metadata": {},
     "output_type": "execute_result"
    }
   ],
   "source": [
    "V[:, : k + 1] , H[: k + 2, : k + 1]"
   ]
  },
  {
   "cell_type": "code",
   "execution_count": 11,
   "metadata": {},
   "outputs": [
    {
     "data": {
      "text/plain": [
       "array([-0.89281851])"
      ]
     },
     "execution_count": 11,
     "metadata": {},
     "output_type": "execute_result"
    }
   ],
   "source": [
    "from numpy.linalg import qr\n",
    "Q, R = qr(H[: k + 2, : k + 1], mode = 'complete')\n",
    "Q[0][:-1]"
   ]
  },
  {
   "cell_type": "code",
   "execution_count": 12,
   "metadata": {},
   "outputs": [
    {
     "data": {
      "text/plain": [
       "array([[-4.40157754]])"
      ]
     },
     "execution_count": 12,
     "metadata": {},
     "output_type": "execute_result"
    }
   ],
   "source": [
    "R[:-1, :]"
   ]
  }
 ],
 "metadata": {
  "kernelspec": {
   "display_name": "Python 3 (ipykernel)",
   "language": "python",
   "name": "python3"
  },
  "language_info": {
   "codemirror_mode": {
    "name": "ipython",
    "version": 3
   },
   "file_extension": ".py",
   "mimetype": "text/x-python",
   "name": "python",
   "nbconvert_exporter": "python",
   "pygments_lexer": "ipython3",
   "version": "3.11.5"
  }
 },
 "nbformat": 4,
 "nbformat_minor": 4
}
