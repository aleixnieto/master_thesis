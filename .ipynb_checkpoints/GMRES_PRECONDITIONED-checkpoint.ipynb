{
 "cells": [
  {
   "cell_type": "markdown",
   "id": "f9230d73",
   "metadata": {},
   "source": [
    "# LEFT PRECONDITIONED GMRES"
   ]
  },
  {
   "cell_type": "code",
   "execution_count": 7,
   "id": "49c7a21d",
   "metadata": {},
   "outputs": [],
   "source": [
    "import numpy as np\n",
    "from time import time\n",
    "from numpy.linalg import qr\n",
    "\n",
    "from functions import arnoldi, back_substitution\n",
    "from preconditioner import initial_precondition, PreconditionEnum\n",
    "\n",
    "from scipy.sparse.linalg import lsqr\n",
    "from scipy.sparse.linalg import spsolve\n",
    "from scipy.sparse import csr_matrix\n",
    "from scipy.sparse import coo_matrix\n",
    "from scipy.sparse.linalg import gmres\n",
    "import scipy.io"
   ]
  },
  {
   "cell_type": "code",
   "execution_count": 8,
   "id": "c48a7648",
   "metadata": {},
   "outputs": [],
   "source": [
    "def precon_GMRES_restarted(A, b, x0, k_max = None, restart = None, precondition = None, epsilon = 1e-12):\n",
    "    \"\"\"\n",
    "    Generalized Minimal RESidual method for solving linear systems. With both restart and left preconditioning options.\n",
    "    \n",
    "    - Regular mode: when restart = None the full Krylov subspace is used to solve the problem. \n",
    "        This mode is guaranteed to find a solution (if one exists), but scales poorly.\n",
    "        \n",
    "    - Restarted mode: when restart = N then the Krylov subspace used by the solver is rebuilt every N steps. \n",
    "        This mode is not guaranteed to find a solution for certain intial conditions, but scales well.\n",
    "    \n",
    "    Parameters:\n",
    "    -----------\n",
    "    A : numpy.ndarray\n",
    "        Coefficient matrix of the linear system.\n",
    "        \n",
    "    b : numpy.ndarray\n",
    "        Right-hand side vector of the linear system.\n",
    "        \n",
    "    x0 : numpy.ndarray\n",
    "        Initial guess for the solution.\n",
    "        \n",
    "    k_max : int\n",
    "        Maximum number of iterations.\n",
    "        \n",
    "    restart : int, optional\n",
    "        Number of iterations before restart. If None, the method will not restart.\n",
    "        \n",
    "    precondition: int, optional\n",
    "        Preconditioner that will be implemented.\n",
    "        \n",
    "    epsilon : float, optional\n",
    "        Tolerance for convergence.\n",
    "    \n",
    "    Returns:\n",
    "    --------\n",
    "    numpy.ndarray\n",
    "        Approximate solution to the linear system.\n",
    "    \"\"\"\n",
    "    \n",
    "    n = A.shape[0]\n",
    "    \n",
    "    if (k_max is None):\n",
    "        k_max = n\n",
    "        \n",
    "    elif k_max > n:\n",
    "        k_max = n\n",
    "    \n",
    "    r0 = b - A @ x0\n",
    "    M, r0, _ = initial_precondition(A, precondition, r0) # Skipping the time for now\n",
    "    \n",
    "    # Apply initial preconditioning\n",
    "    \n",
    "    p0 = np.linalg.norm(r0)\n",
    "    beta = p0\n",
    "    pk = p0\n",
    "    k = 0\n",
    "    total_k = 0\n",
    "    \n",
    "    while pk > epsilon*p0 and total_k < k_max:\n",
    "        \n",
    "        k += 1\n",
    "        total_k += 1\n",
    "        \n",
    "        V, H = arnoldi(A, b, r0, k, precondition = precondition, M = M) # Arnoldi algorithm to generate V_{k+1} and H_{K+1, K}\n",
    "        \n",
    "        Q, R = qr(H, mode = 'complete')\n",
    "        \n",
    "        pk = abs(beta*Q[0, k]) # Compute norm of residual vector\n",
    "        \n",
    "        yk = back_substitution(R[:-1, :] , beta*Q[0][:-1])\n",
    "    \n",
    "        xk = x0 + V[:, : -1]@yk # Compute the new approximation x0 + V_{k}y\n",
    "        \n",
    "        if restart is not None and k == restart:\n",
    "            x0 = xk\n",
    "            r0 = b - A @ x0\n",
    "            _, r0, _ = initial_precondition(A, precondition, r0) # Skipping the time for now\n",
    "            p0 = np.linalg.norm(r0)\n",
    "            beta = p0\n",
    "            pk = p0\n",
    "            k = 0\n",
    "            \n",
    "    return xk, pk, total_k"
   ]
  },
  {
   "cell_type": "markdown",
   "id": "44228a88",
   "metadata": {},
   "source": [
    "# Unit tests"
   ]
  },
  {
   "cell_type": "markdown",
   "id": "ffaacab8",
   "metadata": {},
   "source": [
    "## Test 1: Trying if the Jacobi preconditioner is formed correctly"
   ]
  },
  {
   "cell_type": "code",
   "execution_count": 9,
   "id": "466b12c9",
   "metadata": {},
   "outputs": [
    {
     "data": {
      "text/plain": [
       "array([[2., 0., 0.],\n",
       "       [0., 3., 0.],\n",
       "       [0., 0., 5.]])"
      ]
     },
     "execution_count": 9,
     "metadata": {},
     "output_type": "execute_result"
    }
   ],
   "source": [
    "A = np.array([[2,5,6],[2,3,4],[8,2,5]])\n",
    "\n",
    "# Convert the matrix to CRS format\n",
    "A = scipy.sparse.csr_matrix(A)\n",
    "\n",
    "b = np.ones(A.shape[0])\n",
    "\n",
    "x0 = np.zeros(b.size)\n",
    "\n",
    "r0 = b - A @ x0\n",
    "\n",
    "precondition = PreconditionEnum.JACOBI\n",
    "\n",
    "M, r0, _ = initial_precondition(A, precondition, r0) # Skipping the time for now\n",
    "M.toarray()"
   ]
  },
  {
   "cell_type": "markdown",
   "id": "d1e7785a",
   "metadata": {},
   "source": [
    "## Test 2: PDE sparse matrix comparison SciPy implementation"
   ]
  },
  {
   "cell_type": "code",
   "execution_count": 26,
   "id": "385c9e22",
   "metadata": {},
   "outputs": [],
   "source": [
    "def discretise_poisson(N):\n",
    "    \"\"\"Generate the matrix and rhs associated with the discrete Poisson operator.\"\"\"\n",
    "    \n",
    "    nelements = 5 * N**2 - 16 * N + 16\n",
    "    \n",
    "    row_ind = np.empty(nelements, dtype=np.float64)\n",
    "    col_ind = np.empty(nelements, dtype=np.float64)\n",
    "    data = np.empty(nelements, dtype=np.float64)\n",
    "    \n",
    "    f = np.empty(N * N, dtype=np.float64)\n",
    "    \n",
    "    count = 0\n",
    "    for j in range(N):\n",
    "        for i in range(N):\n",
    "            if i == 0 or i == N - 1 or j == 0 or j == N - 1:\n",
    "                row_ind[count] = col_ind[count] = j * N + i\n",
    "                data[count] =  1\n",
    "                f[j * N + i] = 0\n",
    "                count += 1\n",
    "                \n",
    "            else:\n",
    "                row_ind[count : count + 5] = j * N + i\n",
    "                col_ind[count] = j * N + i\n",
    "                col_ind[count + 1] = j * N + i + 1\n",
    "                col_ind[count + 2] = j * N + i - 1\n",
    "                col_ind[count + 3] = (j + 1) * N + i\n",
    "                col_ind[count + 4] = (j - 1) * N + i\n",
    "                                \n",
    "                data[count] = 4 * (N - 1)**2\n",
    "                data[count + 1 : count + 5] = - (N - 1)**2\n",
    "                f[j * N + i] = 1\n",
    "                \n",
    "                count += 5\n",
    "                                                \n",
    "    return coo_matrix((data, (row_ind, col_ind)), shape=(N**2, N**2)).tocsr(), f"
   ]
  },
  {
   "cell_type": "code",
   "execution_count": 34,
   "id": "0fc6793f",
   "metadata": {},
   "outputs": [],
   "source": [
    "def jacobi_preconditioner(A):\n",
    "    n = A.shape[0]\n",
    "    diag = A.diagonal()\n",
    "    M = csr_matrix((1/diag, (range(n), range(n))), shape=(n,n))\n",
    "    return M\n"
   ]
  },
  {
   "cell_type": "code",
   "execution_count": 42,
   "id": "73fd1898",
   "metadata": {},
   "outputs": [
    {
     "name": "stdout",
     "output_type": "stream",
     "text": [
      "SciPy GMRES Time: 1.6089797019958496\n",
      "Calculated Scipy residual with Ax-b (max_iterations = 10000, restart = 10): 9.585398129745876e-11\n",
      "Optimized GMRES_restarted Time: 15.201139211654663\n",
      "Our implementation residual with Ax-b (max_iterations = 10000, restart = 10): 1.596708356715907e-11\n"
     ]
    }
   ],
   "source": [
    "N = 100\n",
    "\n",
    "A, b = discretise_poisson(N)\n",
    "\n",
    "A = csr_matrix(A)\n",
    "\n",
    "M = jacobi_preconditioner(A)\n",
    "\n",
    "x0 = np.zeros(b.size)\n",
    "\n",
    "r0 = b - A @ x0\n",
    "\n",
    "maxiter = 10000\n",
    "restart = 10\n",
    "\n",
    "start_time = time()\n",
    "x, iterations = gmres(A, b, x0, M = None, restart = restart, maxiter = maxiter/restart, tol=1e-12)\n",
    "residual_calculated1 = np.linalg.norm(A@x - b)\n",
    "end_time = time()\n",
    "print(\"SciPy GMRES Time:\", end_time - start_time)\n",
    "\n",
    "print(f\"Calculated Scipy residual with Ax-b (max_iterations = {maxiter}, restart = {restart}): {residual_calculated1}\")\n",
    "\n",
    "start_time = time()\n",
    "x = precon_GMRES_restarted(A, b, x0, k_max = maxiter, restart = restart, precondition = None)[0]\n",
    "residual_calculated2 = np.linalg.norm(A@x - b)\n",
    "end_time = time()\n",
    "print(\"Optimized GMRES_restarted Time:\", end_time - start_time)\n",
    "\n",
    "print(f\"Our implementation residual with Ax-b (max_iterations = {maxiter}, restart = {restart}): {residual_calculated2}\")"
   ]
  },
  {
   "cell_type": "markdown",
   "id": "81f3e4a4",
   "metadata": {},
   "source": [
    "## Test 2: Comparing SciPy implementation and our implementation in a matrix arised from a structural problem"
   ]
  },
  {
   "cell_type": "code",
   "execution_count": 39,
   "id": "1a88ef6f",
   "metadata": {},
   "outputs": [
    {
     "name": "stdout",
     "output_type": "stream",
     "text": [
      "SciPy GMRES Time: 0.23036503791809082\n",
      "Calculated Scipy residual with Ax-b (max_iterations = 200, restart = 50): 83.92625488841975\n",
      "Optimized GMRES_restarted Time: 6.0156896114349365\n",
      "Our implementation residual with Ax-b (max_iterations = 200, restart = 50): 83.92625444744131\n"
     ]
    }
   ],
   "source": [
    "# Load the .mtx file\n",
    "A = scipy.io.mmread(\"data/bcsstk18.mtx\")\n",
    "\n",
    "M = jacobi_preconditioner(A)\n",
    "\n",
    "# Convert the matrix to CSR format\n",
    "A = csr_matrix(A)\n",
    "\n",
    "b = np.ones(A.shape[0])\n",
    "\n",
    "x0 = np.zeros(b.size)\n",
    "\n",
    "maxiter = 200\n",
    "restart = 50\n",
    "\n",
    "start_time = time()\n",
    "x, iterations = gmres(A, b, x0, M = None, restart = restart, maxiter = maxiter/restart)\n",
    "residual_calculated1 = np.linalg.norm(A@x - b)\n",
    "end_time = time()\n",
    "print(\"SciPy GMRES Time:\", end_time - start_time)\n",
    "\n",
    "print(f\"Calculated Scipy residual with Ax-b (max_iterations = {maxiter}, restart = {restart}): {residual_calculated1}\")\n",
    "\n",
    "start_time = time()\n",
    "x = precon_GMRES_restarted(A, b, x0, k_max = maxiter, restart = restart, precondition = None)[0]\n",
    "# x = custom_gmres(A, b, x0, num_max_iter= 200, precondition = PreconditionEnum.JACOBI)[0]\n",
    "residual_calculated2 = np.linalg.norm(A@x - b)\n",
    "end_time = time()\n",
    "print(\"Optimized GMRES_restarted Time:\", end_time - start_time)\n",
    "\n",
    "print(f\"Our implementation residual with Ax-b (max_iterations = {maxiter}, restart = {restart}): {residual_calculated2}\")"
   ]
  },
  {
   "cell_type": "markdown",
   "id": "87c125d2",
   "metadata": {},
   "source": [
    "### Now, let's try with the JACOBI preconditioner"
   ]
  },
  {
   "cell_type": "code",
   "execution_count": 38,
   "id": "6bf70272",
   "metadata": {},
   "outputs": [
    {
     "name": "stdout",
     "output_type": "stream",
     "text": [
      "SciPy GMRES Time: 0.25008416175842285\n",
      "Calculated Scipy residual with Ax-b (max_iterations = 200, restart = 50, preconditioner = Jacobi): 71.35722200521617\n",
      "Optimized GMRES_restarted Time: 16.11103868484497\n",
      "Our implementation residual with Ax-b (max_iterations = 200, restart = 50, preconditioner = Jacobi): 71.35722100564513\n"
     ]
    }
   ],
   "source": [
    "start_time = time()\n",
    "x, iterations = gmres(A, b, x0, M = M, restart = restart, maxiter = maxiter/restart)\n",
    "residual_calculated1 = np.linalg.norm(A@x - b)\n",
    "end_time = time()\n",
    "print(\"SciPy GMRES Time:\", end_time - start_time)\n",
    "\n",
    "print(f\"Calculated Scipy residual with Ax-b (max_iterations = {maxiter}, restart = {restart}, preconditioner = Jacobi): {residual_calculated1}\")\n",
    "\n",
    "start_time = time()\n",
    "x = precon_GMRES_restarted(A, b, x0, k_max = maxiter, restart = restart, precondition = PreconditionEnum.JACOBI)[0]\n",
    "residual_calculated2 = np.linalg.norm(A@x - b)\n",
    "end_time = time()\n",
    "print(\"Optimized GMRES_restarted Time:\", end_time - start_time)\n",
    "\n",
    "print(f\"Our implementation residual with Ax-b (max_iterations = {maxiter}, restart = {restart}, preconditioner = Jacobi): {residual_calculated2}\")"
   ]
  },
  {
   "cell_type": "markdown",
   "id": "293e5d01",
   "metadata": {},
   "source": [
    "The residual decreases! However, it takes longer, we need to optimize the code!"
   ]
  }
 ],
 "metadata": {
  "kernelspec": {
   "display_name": "Python 3 (ipykernel)",
   "language": "python",
   "name": "python3"
  },
  "language_info": {
   "codemirror_mode": {
    "name": "ipython",
    "version": 3
   },
   "file_extension": ".py",
   "mimetype": "text/x-python",
   "name": "python",
   "nbconvert_exporter": "python",
   "pygments_lexer": "ipython3",
   "version": "3.11.5"
  }
 },
 "nbformat": 4,
 "nbformat_minor": 5
}
